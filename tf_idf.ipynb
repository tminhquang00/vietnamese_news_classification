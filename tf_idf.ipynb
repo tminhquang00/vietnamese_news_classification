{
 "cells": [
  {
   "cell_type": "code",
   "execution_count": 1,
   "id": "74169d3c-c429-4cd1-9691-2eb8953e62b3",
   "metadata": {},
   "outputs": [],
   "source": [
    "import os \n",
    "from random import randint\n",
    "from datetime import datetime\n",
    "from pyvi import ViTokenizer\n",
    "from gensim import corpora, matutils\n",
    "import pandas as pd\n",
    "import numpy as np\n",
    "import matplotlib.pyplot as plt\n",
    "import seaborn as sns\n",
    "from itertools import islice\n",
    "import pickle\n",
    "from sklearn import feature_extraction, model_selection, naive_bayes, pipeline, manifold, preprocessing, metrics, svm\n",
    "from sklearn.model_selection import GridSearchCV, KFold\n",
    "import gensim\n",
    "import gensim.downloader as gensim_api\n",
    "\n",
    "from file_loader import FileStore, FileReader, DataLoader\n",
    "from preprocessing import *\n",
    "import const"
   ]
  },
  {
   "cell_type": "markdown",
   "id": "e6dabbc3-f625-48c8-ba48-b7a9519e0ed4",
   "metadata": {
    "tags": []
   },
   "source": [
    "# Preprocessing"
   ]
  },
  {
   "cell_type": "code",
   "execution_count": 2,
   "id": "179b10ca-af5b-4ea4-b7d3-61e041415610",
   "metadata": {},
   "outputs": [],
   "source": [
    "dataLoader = DataLoader(const.DATA_PATH)\n",
    "data = dataLoader.get_json()\n",
    "\n",
    "fileReader = FileReader('./data/vietnamese-stopwords.txt')\n",
    "stopwordLst = fileReader.read_stopwords()"
   ]
  },
  {
   "cell_type": "code",
   "execution_count": 3,
   "id": "838de69b-c67f-4f0f-9e75-813d1631c7ee",
   "metadata": {},
   "outputs": [
    {
     "data": {
      "text/plain": [
       "33759"
      ]
     },
     "execution_count": 3,
     "metadata": {},
     "output_type": "execute_result"
    }
   ],
   "source": [
    "len(data)"
   ]
  },
  {
   "cell_type": "code",
   "execution_count": 4,
   "id": "6ddcfbde-f93a-46b6-9221-eb433d6814c3",
   "metadata": {},
   "outputs": [
    {
     "data": {
      "text/plain": [
       "{'category': 'Chinh tri Xa hoi',\n",
       " 'content': '\\ufeff Thành lập dự án POLICY phòng chống HIV/AIDS ở VN (NLĐ)- Quỹ hỗ trợ khẩn cấp về AIDS của Hoa Kỳ vừa thành lập dự án POLICY tại VN với cam kết hỗ trợ Chính phủ và nhân dân VN đối phó HIV/AIDS.Dự án có nhiệm vụ chính là cải thiện công tác phòng chống HIV/AIDS thông qua các lĩnh vực xây dựng chính sách, rà soát các văn bản pháp luật, xây dựng chiến lược quảng bá, xây dựng chương trình đào tạo về phòng chống HIV/AIDS, lên kế hoạch bố trí nguồn lực, huấn luyện và nghiên cứu về phương tiện truyền thông đại chúng, tổ chức các hoạt động nhằm giảm kỳ thị và phân biệt đối xử đối với người có HIV/AIDS... Theo TTXVN, dự án POLICY đặc biệt quan tâm đến công tác truyền thông phòng chống HIV/AIDS, coi đây là một biện pháp tích cực và hữu hiệu trong việc phòng chống có hiệu quả HIV/AIDS. Thời gian tới, dự án POLICY sẽ tiếp tục tổ chức các hoạt động nhằm nâng cao nhận thức cho những người có trách nhiệm với công tác chỉ đạo phòng chống HIV/AIDS.\\n\\n'}"
      ]
     },
     "execution_count": 4,
     "metadata": {},
     "output_type": "execute_result"
    }
   ],
   "source": [
    "data[0]"
   ]
  },
  {
   "cell_type": "code",
   "execution_count": 5,
   "id": "ea1f40a7-3ea6-4b36-86ca-b13048eb7400",
   "metadata": {},
   "outputs": [
    {
     "data": {
      "text/plain": [
       "'thành_lập dự_án policy phòng_chống hivaids vn nlđ quỹ khẩn_cấp aids hoa kỳ thành_lập dự_án policy vn cam_kết chính_phủ nhân_dân vn đối_phó_hivaids dự_án nhiệm_vụ cải_thiện công_tác phòng_chống hivaids thông_qua lĩnh_vực xây_dựng chính_sách rà_soát văn_bản pháp_luật xây_dựng chiến_lược quảng_bá xây_dựng chương_trình đào_tạo phòng_chống hivaids kế_hoạch bố_trí nguồn_lực huấn_luyện nghiên_cứu phương_tiện truyền_thông đại_chúng tổ_chức hoạt_động kỳ_thị phân_biệt đối_xử hivaids ttxvn dự_án policy công_tác truyền_thông phòng_chống hivaids coi biện_pháp tích_cực hữu_hiệu phòng_chống hiệu_quả hivaids dự_án policy tổ_chức hoạt_động nâng nhận_thức trách_nhiệm công_tác chỉ_đạo phòng_chống hivaids'"
      ]
     },
     "execution_count": 5,
     "metadata": {},
     "output_type": "execute_result"
    }
   ],
   "source": [
    "processing(data[0]['content'], stopwordLst)"
   ]
  },
  {
   "cell_type": "code",
   "execution_count": 6,
   "id": "7eede327-a5b9-4aea-8b39-43c27c7a22fb",
   "metadata": {},
   "outputs": [],
   "source": [
    "features = []\n",
    "labels = []"
   ]
  },
  {
   "cell_type": "code",
   "execution_count": 7,
   "id": "ca69c28d-059a-4755-8e51-9de1b5651d0e",
   "metadata": {},
   "outputs": [],
   "source": [
    "for d in data:\n",
    "    features.append(d['content'])\n",
    "    labels.append(d['category'])"
   ]
  },
  {
   "cell_type": "code",
   "execution_count": 8,
   "id": "b5dadd2f-05cc-4c21-bb18-d30aa3814ef5",
   "metadata": {},
   "outputs": [],
   "source": [
    "label_dict = dict(\n",
    "                    zip(\n",
    "                        sorted(set(labels), key=labels.index), \n",
    "                        range(len(labels))\n",
    "                        )\n",
    "                )"
   ]
  },
  {
   "cell_type": "code",
   "execution_count": 9,
   "id": "c72ec352-b332-4621-ba79-29b6c9d19a32",
   "metadata": {},
   "outputs": [
    {
     "data": {
      "text/plain": [
       "{'Chinh tri Xa hoi': 0,\n",
       " 'Doi song': 1,\n",
       " 'Khoa hoc': 2,\n",
       " 'Kinh doanh': 3,\n",
       " 'Phap luat': 4,\n",
       " 'Suc khoe': 5,\n",
       " 'The gioi': 6,\n",
       " 'The thao': 7,\n",
       " 'Van hoa': 8,\n",
       " 'Vi tinh': 9}"
      ]
     },
     "execution_count": 9,
     "metadata": {},
     "output_type": "execute_result"
    }
   ],
   "source": [
    "label_dict"
   ]
  },
  {
   "cell_type": "code",
   "execution_count": 10,
   "id": "5bc2f609-77bb-445a-b374-06c743379fc4",
   "metadata": {},
   "outputs": [],
   "source": [
    "label_indices = [label_dict[label] for label in labels]"
   ]
  },
  {
   "cell_type": "code",
   "execution_count": 11,
   "id": "709db806-cee7-4a9d-911c-622de2a0983a",
   "metadata": {},
   "outputs": [],
   "source": [
    "features = [processing(article, stopwordLst) for article in features]"
   ]
  },
  {
   "cell_type": "code",
   "execution_count": 12,
   "id": "6d8aa6f2-61a6-4542-a800-c7b40dca5c47",
   "metadata": {},
   "outputs": [
    {
     "data": {
      "image/png": "[encoded data removed]",
      "text/plain": [
       "<Figure size 432x288 with 1 Axes>"
      ]
     },
     "metadata": {
      "needs_background": "light"
     },
     "output_type": "display_data"
    }
   ],
   "source": [
    "label_series = pd.Series(label_indices)\n",
    "\n",
    "label_series.hist(bins=10)\n",
    "plt.xticks(range(10))\n",
    "\n",
    "plt.ylabel('Records')\n",
    "plt.xlabel('Topic')\n",
    "plt.title('Distribution of 2 class spam and milk')\n",
    "plt.show()"
   ]
  },
  {
   "cell_type": "markdown",
   "id": "1a75e4a4-dbac-4d43-9489-1479199b5a49",
   "metadata": {},
   "source": [
    "# Feature extraction"
   ]
  },
  {
   "cell_type": "code",
   "execution_count": 13,
   "id": "4377d3b6-73bd-468e-a509-6baf22c23476",
   "metadata": {},
   "outputs": [],
   "source": [
    "test_ratio = 0.2\n",
    "x_train, x_test, y_train, y_test = model_selection.train_test_split(\n",
    "    features, label_indices, \n",
    "    test_size=test_ratio,\n",
    "    stratify=label_indices\n",
    ")"
   ]
  },
  {
   "cell_type": "code",
   "execution_count": null,
   "id": "1daa81b4-55f0-446e-b6ae-292c5fb1c542",
   "metadata": {},
   "outputs": [],
   "source": []
  },
  {
   "cell_type": "markdown",
   "id": "64babde3-1c1b-49a5-a2d0-82c15a5112bd",
   "metadata": {},
   "source": [
    "## BOW"
   ]
  },
  {
   "cell_type": "code",
   "execution_count": 14,
   "id": "49d27082-6357-4b44-804e-e8240bf3ce31",
   "metadata": {},
   "outputs": [],
   "source": [
    "def get_BoW_feature_extractor(max_feature_dim=5000, ngram_range=(1,2)):\n",
    "    \n",
    "    bow_vectorizer = feature_extraction.text.CountVectorizer(max_features=max_feature_dim, ngram_range=ngram_range)\n",
    "    return bow_vectorizer"
   ]
  },
  {
   "cell_type": "code",
   "execution_count": 15,
   "id": "26cc3045-5b33-4b7a-a8d3-e583cfcc7375",
   "metadata": {},
   "outputs": [],
   "source": [
    "# Extract BoW features\n",
    "bow_extractor_5000_1gram = get_BoW_feature_extractor(max_feature_dim=5000, ngram_range=(1,1))\n",
    "bow_feature_train_5000_1gram = bow_extractor_5000_1gram.fit_transform(x_train)\n",
    "\n",
    "bow_extractor_5000_2gram = get_BoW_feature_extractor(max_feature_dim=5000, ngram_range=(1,2))\n",
    "bow_feature_train_5000_2gram = bow_extractor_5000_2gram.fit_transform(x_train)\n",
    "\n",
    "bow_extractor_5000_3gram = get_BoW_feature_extractor(max_feature_dim=5000, ngram_range=(1,3))\n",
    "bow_feature_train_5000_3gram = bow_extractor_5000_3gram.fit_transform(x_train)"
   ]
  },
  {
   "cell_type": "markdown",
   "id": "a5adb201-ef70-45d5-b39a-4e48af40e384",
   "metadata": {},
   "source": [
    "# TF - IDF"
   ]
  },
  {
   "cell_type": "code",
   "execution_count": 28,
   "id": "284bd752-f16e-46af-bac1-7f7f188b0d99",
   "metadata": {},
   "outputs": [],
   "source": [
    "def get_TFIDF_feature_extractor(max_feature_dim=5000, ngram_range=(1,2)):\n",
    "    \n",
    "    tfidf_vectorizer = feature_extraction.text.TfidfVectorizer(max_features=5000, ngram_range=ngram_range)\n",
    "    \n",
    "    return tfidf_vectorizer"
   ]
  },
  {
   "cell_type": "code",
   "execution_count": 29,
   "id": "c9ec363e-59a8-4fa8-bb3b-cfcbc5f026cf",
   "metadata": {},
   "outputs": [],
   "source": [
    "# Extract TFIDF features\n",
    "tfidf_extractor_1gram = get_TFIDF_feature_extractor(max_feature_dim=5000, ngram_range=(1,1))\n",
    "tfidf_feature_train_1gram = tfidf_extractor_1gram.fit_transform(x_train)\n",
    "\n",
    "tfidf_extractor_2gram = get_TFIDF_feature_extractor(max_feature_dim=5000, ngram_range=(1,2))\n",
    "tfidf_feature_train_2gram = tfidf_extractor_2gram.fit_transform(x_train)\n",
    "\n",
    "tfidf_extractor_3gram = get_TFIDF_feature_extractor(max_feature_dim=5000, ngram_range=(1,3))\n",
    "tfidf_feature_train_3gram = tfidf_extractor_3gram.fit_transform(x_train)\n"
   ]
  },
  {
   "cell_type": "markdown",
   "id": "b598aff8-a4cd-4a38-ba51-fadc18de0904",
   "metadata": {},
   "source": [
    "# Model"
   ]
  },
  {
   "cell_type": "code",
   "execution_count": 20,
   "id": "170f92ad-bec0-44bc-8292-7bfc67f6ba34",
   "metadata": {
    "tags": []
   },
   "outputs": [],
   "source": [
    "# This function is to plot the confusion matrix\n",
    "def plot_confusion_matrix(cm,\n",
    "                          target_names,\n",
    "                          title='Confusion matrix',\n",
    "                          cmap=None,\n",
    "                          normalize=False):\n",
    "    import matplotlib.pyplot as plt\n",
    "    import numpy as np\n",
    "    import itertools\n",
    "\n",
    "    accuracy = np.trace(cm) / np.sum(cm).astype('float')\n",
    "    misclass = 1 - accuracy\n",
    "\n",
    "    if cmap is None:\n",
    "        cmap = plt.get_cmap('Blues')\n",
    "\n",
    "    plt.figure(figsize=(12, 12))\n",
    "    plt.imshow(cm, interpolation='nearest', cmap=cmap)\n",
    "    plt.title(title)\n",
    "    plt.colorbar()\n",
    "\n",
    "    if target_names is not None:\n",
    "        tick_marks = np.arange(len(target_names))\n",
    "        plt.xticks(tick_marks, target_names, rotation=90)\n",
    "        plt.yticks(tick_marks, target_names)\n",
    "\n",
    "    if normalize:\n",
    "        cm = cm.astype('float') / cm.sum(axis=1)[:, np.newaxis]\n",
    "\n",
    "\n",
    "    thresh = cm.max() / 1.5 if normalize else cm.max() / 2\n",
    "    for i, j in itertools.product(range(cm.shape[0]), range(cm.shape[1])):\n",
    "        if normalize:\n",
    "            plt.text(j, i, \"{:0.4f}\".format(cm[i, j]),\n",
    "                     horizontalalignment=\"center\",\n",
    "                     color=\"white\" if cm[i, j] > thresh else \"black\")\n",
    "        else:\n",
    "            plt.text(j, i, \"{:,}\".format(cm[i, j]),\n",
    "                     horizontalalignment=\"center\",\n",
    "                     color=\"white\" if cm[i, j] > thresh else \"black\")\n",
    "\n",
    "\n",
    "    plt.tight_layout()\n",
    "    plt.ylabel('True label')\n",
    "    plt.xlabel('Predicted label\\naccuracy={:0.4f}; misclass={:0.4f}'.format(accuracy, misclass))\n",
    "    plt.show()"
   ]
  },
  {
   "cell_type": "code",
   "execution_count": 16,
   "id": "32452ecf-266a-43ca-87a6-9b57ce951adb",
   "metadata": {},
   "outputs": [],
   "source": [
    "def optimize_model_parameter(model, X_train, Y_train):\n",
    "    '''\n",
    "    Perform hyper parameter tuning for model\n",
    "    '''\n",
    "    best_model = model.fit(X_train, Y_train)\n",
    "    #print(svm_grid_model.best_estimator_) \n",
    "    \n",
    "    # Estimate the best accuracy\n",
    "    train_accuracy = best_model.best_score_ *100\n",
    "    print(\"Accuracy for our training dataset with tuning is : {:.2f}%\".format(train_accuracy) )\n",
    "    return best_model\n",
    "\n",
    "def evaluate_model(model, X_test, Y_test):\n",
    "    '''\n",
    "    Initial evaluate model on test set\n",
    "    '''\n",
    "    # Predict topic indices in x_test\n",
    "    y_test_hat = model.predict(x_test)\n",
    "\n",
    "    # Estimate the testing accuracy\n",
    "    test_accuracy = metrics.accuracy_score(y_test,y_test_hat)*100\n",
    "    print(\"Accuracy for our testing dataset with tuning is : {:.2f}%\".format(test_accuracy) )\n",
    "    return test_accuracy"
   ]
  },
  {
   "cell_type": "markdown",
   "id": "78730b1f-2732-45ac-8e4e-3d6709e6d876",
   "metadata": {},
   "source": [
    "## SVM "
   ]
  },
  {
   "cell_type": "code",
   "execution_count": 17,
   "id": "21c93b65-2991-4020-bbc8-6c74d444a280",
   "metadata": {},
   "outputs": [],
   "source": [
    "def get_SVM_model():\n",
    "    '''\n",
    "    Get linear SVM model and list of parameters\n",
    "    '''\n",
    "    # Initialize SVM model as a classifier\n",
    "    svm_model = svm.SVC(probability=True) \n",
    "\n",
    "    # Define config for params\n",
    "    param_grid = {'C': [ 100, 200], \n",
    "                  'kernel': ['linear', 'rbf']} \n",
    "\n",
    "    # Perform Grid search\n",
    "    grid = GridSearchCV(\n",
    "        svm_model, \n",
    "        param_grid, \n",
    "        refit = True, \n",
    "        verbose = 3, \n",
    "        cv=5,\n",
    "        n_jobs=-1\n",
    "    )\n",
    "    \n",
    "    return grid"
   ]
  },
  {
   "cell_type": "markdown",
   "id": "cc78a10d-94b7-4094-b8e9-5bc80fb38532",
   "metadata": {},
   "source": [
    "### BoW "
   ]
  },
  {
   "cell_type": "code",
   "execution_count": 18,
   "id": "ba85ecd0-7855-449d-a907-949d37c54bfa",
   "metadata": {},
   "outputs": [
    {
     "name": "stdout",
     "output_type": "stream",
     "text": [
      "Fitting 5 folds for each of 4 candidates, totalling 20 fits\n",
      "Accuracy for our training dataset with tuning is : 89.28%\n",
      "Accuracy for our testing dataset with tuning is : 88.76%\n"
     ]
    },
    {
     "data": {
      "text/plain": [
       "88.75888625592417"
      ]
     },
     "execution_count": 18,
     "metadata": {},
     "output_type": "execute_result"
    }
   ],
   "source": [
    "# Initialize SVM with Grid Search model\n",
    "svm_grid_model = get_SVM_model()\n",
    "\n",
    "# Hyper parameter tuning\n",
    "optimized_model = optimize_model_parameter(svm_grid_model, bow_feature_train_5000_1gram, y_train)\n",
    "# Classifier pipeline\n",
    "model = pipeline.Pipeline([(\"vectorizer\", bow_extractor_5000_1gram),  \n",
    "                           (\"classifier\", optimized_model)])\n",
    "\n",
    "# Predict topic indices in x_test\n",
    "y_test_hat = model.predict(x_test)\n",
    "\n",
    "# Evaluate on test set\n",
    "evaluate_model(model, x_test, y_test)"
   ]
  },
  {
   "cell_type": "code",
   "execution_count": 21,
   "id": "e9e7c0c9-997d-4451-ada5-85a6bcd99c32",
   "metadata": {},
   "outputs": [
    {
     "name": "stdout",
     "output_type": "stream",
     "text": [
      "              precision    recall  f1-score   support\n",
      "\n",
      "           0       0.79      0.84      0.81      1044\n",
      "           1       0.84      0.84      0.84       632\n",
      "           2       0.82      0.78      0.80       364\n",
      "           3       0.88      0.86      0.87       510\n",
      "           4       0.92      0.90      0.91       774\n",
      "           5       0.89      0.91      0.90       677\n",
      "           6       0.91      0.90      0.91       579\n",
      "           7       0.98      0.97      0.98      1060\n",
      "           8       0.93      0.90      0.91       616\n",
      "           9       0.92      0.89      0.91       496\n",
      "\n",
      "    accuracy                           0.89      6752\n",
      "   macro avg       0.89      0.88      0.88      6752\n",
      "weighted avg       0.89      0.89      0.89      6752\n",
      "\n"
     ]
    },
    {
     "ename": "AttributeError",
     "evalue": "'dict' object has no attribute 'index'",
     "output_type": "error",
     "traceback": [
      "\u001b[1;31m---------------------------------------------------------------------------\u001b[0m",
      "\u001b[1;31mAttributeError\u001b[0m                            Traceback (most recent call last)",
      "Input \u001b[1;32mIn [21]\u001b[0m, in \u001b[0;36m<cell line: 3>\u001b[1;34m()\u001b[0m\n\u001b[0;32m      1\u001b[0m \u001b[38;5;28mprint\u001b[39m(metrics\u001b[38;5;241m.\u001b[39mclassification_report(y_test, y_test_hat))\n\u001b[0;32m      2\u001b[0m confus_mat \u001b[38;5;241m=\u001b[39m metrics\u001b[38;5;241m.\u001b[39mconfusion_matrix(y_test, y_test_hat)\n\u001b[1;32m----> 3\u001b[0m plot_confusion_matrix(confus_mat, title\u001b[38;5;241m=\u001b[39m\u001b[38;5;124m'\u001b[39m\u001b[38;5;124mConfusion matrix\u001b[39m\u001b[38;5;124m'\u001b[39m, target_names\u001b[38;5;241m=\u001b[39m\u001b[38;5;28msorted\u001b[39m(\u001b[38;5;28mset\u001b[39m(label_dict), key\u001b[38;5;241m=\u001b[39m\u001b[43mlabel_dict\u001b[49m\u001b[38;5;241;43m.\u001b[39;49m\u001b[43mindex\u001b[49m))\n",
      "\u001b[1;31mAttributeError\u001b[0m: 'dict' object has no attribute 'index'"
     ]
    }
   ],
   "source": [
    "print(metrics.classification_report(y_test, y_test_hat))\n",
    "confus_mat = metrics.confusion_matrix(y_test, y_test_hat)\n",
    "plot_confusion_matrix(confus_mat, title='Confusion matrix', target_names=sorted(set(label_dict), key=label_dict.index))"
   ]
  },
  {
   "cell_type": "code",
   "execution_count": 22,
   "id": "f50cb71b-a084-4f9f-b25d-25cff0b53850",
   "metadata": {},
   "outputs": [
    {
     "name": "stdout",
     "output_type": "stream",
     "text": [
      "Fitting 5 folds for each of 4 candidates, totalling 20 fits\n",
      "Accuracy for our training dataset with tuning is : 89.18%\n",
      "Accuracy for our testing dataset with tuning is : 88.77%\n"
     ]
    },
    {
     "data": {
      "text/plain": [
       "88.77369668246445"
      ]
     },
     "execution_count": 22,
     "metadata": {},
     "output_type": "execute_result"
    }
   ],
   "source": [
    "# Initialize SVM with Grid Search model\n",
    "svm_grid_model = get_SVM_model()\n",
    "\n",
    "# Hyper parameter tuning\n",
    "optimized_model = optimize_model_parameter(svm_grid_model, bow_feature_train_5000_2gram, y_train)\n",
    "# Classifier pipeline\n",
    "model = pipeline.Pipeline([(\"vectorizer\", bow_extractor_5000_2gram),  \n",
    "                           (\"classifier\", optimized_model)])\n",
    "\n",
    "# Predict topic indices in x_test\n",
    "y_test_hat = model.predict(x_test)\n",
    "\n",
    "# Evaluate on test set\n",
    "evaluate_model(model, x_test, y_test)"
   ]
  },
  {
   "cell_type": "code",
   "execution_count": 25,
   "id": "83326984-08b8-4f81-a774-8bdb2c761cf1",
   "metadata": {},
   "outputs": [
    {
     "name": "stdout",
     "output_type": "stream",
     "text": [
      "              precision    recall  f1-score   support\n",
      "\n",
      "           0       0.79      0.84      0.81      1044\n",
      "           1       0.84      0.84      0.84       632\n",
      "           2       0.80      0.78      0.79       364\n",
      "           3       0.88      0.86      0.87       510\n",
      "           4       0.91      0.90      0.91       774\n",
      "           5       0.88      0.91      0.89       677\n",
      "           6       0.91      0.90      0.90       579\n",
      "           7       0.98      0.97      0.98      1060\n",
      "           8       0.93      0.90      0.91       616\n",
      "           9       0.93      0.90      0.92       496\n",
      "\n",
      "    accuracy                           0.89      6752\n",
      "   macro avg       0.89      0.88      0.88      6752\n",
      "weighted avg       0.89      0.89      0.89      6752\n",
      "\n"
     ]
    },
    {
     "data": {
      "text/plain": [
       "array([[ 875,   30,    7,   27,   44,   24,   12,    3,   16,    6],\n",
       "       [  43,  532,   13,    4,    8,   12,    4,    4,    8,    4],\n",
       "       [  14,   20,  284,    3,    2,   30,    3,    0,    3,    5],\n",
       "       [  37,    6,    2,  440,    5,    0,    4,    1,    3,   12],\n",
       "       [  60,    3,    2,    2,  697,    3,    2,    2,    2,    1],\n",
       "       [  18,   11,   22,    3,    0,  613,    7,    1,    0,    2],\n",
       "       [  13,    9,   10,    9,    3,    5,  521,    2,    6,    1],\n",
       "       [   8,    2,    1,    2,    2,    3,    8, 1029,    3,    2],\n",
       "       [  25,   17,    2,    2,    3,    1,    5,    4,  555,    2],\n",
       "       [  11,    4,   10,    8,    1,    2,    7,    3,    2,  448]],\n",
       "      dtype=int64)"
      ]
     },
     "execution_count": 25,
     "metadata": {},
     "output_type": "execute_result"
    }
   ],
   "source": [
    "print(metrics.classification_report(y_test, y_test_hat))\n",
    "confus_mat = metrics.confusion_matrix(y_test, y_test_hat)\n",
    "confus_mat"
   ]
  },
  {
   "cell_type": "code",
   "execution_count": 26,
   "id": "a9f1019d-f5e1-4872-b773-17f061410e44",
   "metadata": {},
   "outputs": [
    {
     "name": "stdout",
     "output_type": "stream",
     "text": [
      "Fitting 5 folds for each of 4 candidates, totalling 20 fits\n",
      "Accuracy for our training dataset with tuning is : 89.19%\n",
      "Accuracy for our testing dataset with tuning is : 88.66%\n"
     ]
    },
    {
     "data": {
      "text/plain": [
       "88.65521327014217"
      ]
     },
     "execution_count": 26,
     "metadata": {},
     "output_type": "execute_result"
    }
   ],
   "source": [
    "# Initialize SVM with Grid Search model\n",
    "svm_grid_model = get_SVM_model()\n",
    "\n",
    "# Hyper parameter tuning\n",
    "optimized_model = optimize_model_parameter(svm_grid_model, bow_feature_train_5000_3gram, y_train)\n",
    "# Classifier pipeline\n",
    "model = pipeline.Pipeline([(\"vectorizer\", bow_extractor_5000_3gram),  \n",
    "                           (\"classifier\", optimized_model)])\n",
    "\n",
    "# Predict topic indices in x_test\n",
    "y_test_hat = model.predict(x_test)\n",
    "\n",
    "# Evaluate on test set\n",
    "evaluate_model(model, x_test, y_test)"
   ]
  },
  {
   "cell_type": "code",
   "execution_count": 27,
   "id": "1d7becea-3013-4b75-b758-5ef8e464a505",
   "metadata": {},
   "outputs": [
    {
     "name": "stdout",
     "output_type": "stream",
     "text": [
      "              precision    recall  f1-score   support\n",
      "\n",
      "           0       0.79      0.84      0.81      1044\n",
      "           1       0.84      0.84      0.84       632\n",
      "           2       0.80      0.78      0.79       364\n",
      "           3       0.88      0.86      0.87       510\n",
      "           4       0.91      0.90      0.90       774\n",
      "           5       0.88      0.91      0.89       677\n",
      "           6       0.91      0.90      0.90       579\n",
      "           7       0.98      0.97      0.97      1060\n",
      "           8       0.93      0.90      0.91       616\n",
      "           9       0.93      0.90      0.91       496\n",
      "\n",
      "    accuracy                           0.89      6752\n",
      "   macro avg       0.88      0.88      0.88      6752\n",
      "weighted avg       0.89      0.89      0.89      6752\n",
      "\n"
     ]
    }
   ],
   "source": [
    "print(metrics.classification_report(y_test, y_test_hat))\n",
    "confus_mat = metrics.confusion_matrix(y_test, y_test_hat)\n"
   ]
  },
  {
   "cell_type": "code",
   "execution_count": null,
   "id": "c6835b67-c2e9-4fa1-9580-ce51d61d2600",
   "metadata": {},
   "outputs": [],
   "source": []
  },
  {
   "cell_type": "markdown",
   "id": "faf563aa-06b6-4264-98b2-e87bdaf0b161",
   "metadata": {},
   "source": [
    "### TF - IDF "
   ]
  },
  {
   "cell_type": "code",
   "execution_count": 30,
   "id": "58e9d8e7-f985-4247-8925-2f96223ff2fe",
   "metadata": {},
   "outputs": [
    {
     "name": "stdout",
     "output_type": "stream",
     "text": [
      "Fitting 5 folds for each of 4 candidates, totalling 20 fits\n",
      "Accuracy for our training dataset with tuning is : 91.44%\n",
      "Accuracy for our testing dataset with tuning is : 91.08%\n"
     ]
    },
    {
     "data": {
      "text/plain": [
       "91.08412322274881"
      ]
     },
     "execution_count": 30,
     "metadata": {},
     "output_type": "execute_result"
    }
   ],
   "source": [
    "# Initialize SVM with Grid Search model\n",
    "svm_grid_model = get_SVM_model()\n",
    "\n",
    "# Hyper parameter tuning\n",
    "optimized_model = optimize_model_parameter(svm_grid_model, tfidf_feature_train_1gram, y_train)\n",
    "# Classifier pipeline\n",
    "model = pipeline.Pipeline([(\"vectorizer\", tfidf_extractor_1gram),  \n",
    "                           (\"classifier\", optimized_model)])\n",
    "\n",
    "# Predict topic indices in x_test\n",
    "y_test_hat = model.predict(x_test)\n",
    "\n",
    "# Evaluate on test set\n",
    "evaluate_model(model, x_test, y_test)"
   ]
  },
  {
   "cell_type": "code",
   "execution_count": 31,
   "id": "7487015b-0697-4b78-a2be-fae4e98ec184",
   "metadata": {},
   "outputs": [
    {
     "name": "stdout",
     "output_type": "stream",
     "text": [
      "              precision    recall  f1-score   support\n",
      "\n",
      "           0       0.82      0.88      0.85      1044\n",
      "           1       0.87      0.87      0.87       632\n",
      "           2       0.86      0.80      0.83       364\n",
      "           3       0.90      0.89      0.89       510\n",
      "           4       0.95      0.91      0.93       774\n",
      "           5       0.90      0.94      0.92       677\n",
      "           6       0.94      0.92      0.93       579\n",
      "           7       0.99      0.98      0.98      1060\n",
      "           8       0.94      0.92      0.93       616\n",
      "           9       0.93      0.92      0.93       496\n",
      "\n",
      "    accuracy                           0.91      6752\n",
      "   macro avg       0.91      0.90      0.91      6752\n",
      "weighted avg       0.91      0.91      0.91      6752\n",
      "\n"
     ]
    }
   ],
   "source": [
    "print(metrics.classification_report(y_test, y_test_hat))\n",
    "confus_mat = metrics.confusion_matrix(y_test, y_test_hat)\n"
   ]
  },
  {
   "cell_type": "code",
   "execution_count": null,
   "id": "1a6fc043-75c2-4823-b920-61086f273650",
   "metadata": {},
   "outputs": [],
   "source": []
  },
  {
   "cell_type": "code",
   "execution_count": null,
   "id": "8f65a695-7f11-4c8b-a263-36f23baaf22f",
   "metadata": {},
   "outputs": [],
   "source": []
  },
  {
   "cell_type": "code",
   "execution_count": null,
   "id": "e9eb0f41-69c1-4a7b-9121-f7412af01521",
   "metadata": {},
   "outputs": [],
   "source": []
  }
 ],
 "metadata": {
  "kernelspec": {
   "display_name": "Python 3 (ipykernel)",
   "language": "python",
   "name": "python3"
  },
  "language_info": {
   "codemirror_mode": {
    "name": "ipython",
    "version": 3
   },
   "file_extension": ".py",
   "mimetype": "text/x-python",
   "name": "python",
   "nbconvert_exporter": "python",
   "pygments_lexer": "ipython3",
   "version": "3.8.3"
  }
 },
 "nbformat": 4,
 "nbformat_minor": 5
}
