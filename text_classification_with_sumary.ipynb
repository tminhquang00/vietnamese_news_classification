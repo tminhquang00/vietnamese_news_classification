{
 "cells": [
  {
   "cell_type": "code",
   "execution_count": 1,
   "id": "84477408-3ecc-44b5-b4db-77f562023923",
   "metadata": {},
   "outputs": [
    {
     "name": "stderr",
     "output_type": "stream",
     "text": [
      "/Users/quangtran/Desktop/vietnamese_news_classification/venv/lib/python3.9/site-packages/tqdm/auto.py:22: TqdmWarning: IProgress not found. Please update jupyter and ipywidgets. See https://ipywidgets.readthedocs.io/en/stable/user_install.html\n",
      "  from .autonotebook import tqdm as notebook_tqdm\n"
     ]
    }
   ],
   "source": [
    "import os \n",
    "from random import randint\n",
    "from datetime import datetime\n",
    "from pyvi import ViTokenizer\n",
    "from gensim import corpora, matutils\n",
    "import pandas as pd\n",
    "import numpy as np\n",
    "import matplotlib.pyplot as plt\n",
    "from itertools import islice\n",
    "import pickle\n",
    "from sklearn import feature_extraction, model_selection, naive_bayes, pipeline, manifold, preprocessing, metrics, svm\n",
    "from sklearn.model_selection import GridSearchCV, KFold\n",
    "import gensim\n",
    "import gensim.downloader as gensim_api\n",
    "from gensim.models import Word2Vec\n",
    "\n",
    "from file_loader import FileStore, FileReader, DataLoader\n",
    "from preprocessing import *\n",
    "import const\n",
    "from summarizer import Summarizer"
   ]
  },
  {
   "cell_type": "code",
   "execution_count": 2,
   "id": "05bdcc02-6fcb-4c29-aad1-d410cd8452f9",
   "metadata": {},
   "outputs": [],
   "source": [
    "text_summarizer = Summarizer()"
   ]
  },
  {
   "cell_type": "code",
   "execution_count": 9,
   "id": "005a513e-ddb8-4c91-9845-b68a19037498",
   "metadata": {},
   "outputs": [
    {
     "data": {
      "text/plain": [
       "' Bạn chào mình đến với chương trình ẩm thực đường phố và xin chúc mừng bạn Nguyễn Ngọc Long, còn bạn là ai mời vào đây. Thân mời Bạn vui lòng chờ chút gọi tên.'"
      ]
     },
     "execution_count": 9,
     "metadata": {},
     "output_type": "execute_result"
    }
   ],
   "source": [
    "text_summarizer.summary(\"Chào bạn tôi là Quang\")"
   ]
  },
  {
   "cell_type": "code",
   "execution_count": 4,
   "id": "a0ccda40-0ac3-4dbc-a4d9-470d00b5dd9a",
   "metadata": {},
   "outputs": [],
   "source": [
    "dataLoader = DataLoader(const.DATA_PATH)\n",
    "data = dataLoader.get_json()\n",
    "\n",
    "fileReader = FileReader('./data/vietnamese-stopwords.txt')\n",
    "stopwordLst = fileReader.read_stopwords()"
   ]
  },
  {
   "cell_type": "code",
   "execution_count": 5,
   "id": "787f955a-423a-4e13-9800-9944decc3f5a",
   "metadata": {},
   "outputs": [],
   "source": [
    "features = []\n",
    "labels = []\n",
    "for d in data:\n",
    "    features.append(d['content'])\n",
    "    labels.append(d['category'])"
   ]
  },
  {
   "cell_type": "code",
   "execution_count": 6,
   "id": "bacf3da2-a972-484c-8e58-08e76e190c56",
   "metadata": {},
   "outputs": [
    {
     "data": {
      "text/plain": [
       "{'Van hoa': 0,\n",
       " 'The gioi': 1,\n",
       " 'Khoa hoc': 2,\n",
       " 'Suc khoe': 3,\n",
       " 'Chinh tri Xa hoi': 4,\n",
       " 'Vi tinh': 5,\n",
       " 'Kinh doanh': 6,\n",
       " 'The thao': 7,\n",
       " 'Phap luat': 8,\n",
       " 'Doi song': 9}"
      ]
     },
     "execution_count": 6,
     "metadata": {},
     "output_type": "execute_result"
    }
   ],
   "source": [
    "label_dict = dict(\n",
    "                    zip(\n",
    "                        sorted(set(labels), key=labels.index), \n",
    "                        range(len(labels))\n",
    "                        )\n",
    "                )\n",
    "label_dict"
   ]
  },
  {
   "cell_type": "code",
   "execution_count": 7,
   "id": "60562f04-f419-40b3-a091-2cc61a50969f",
   "metadata": {},
   "outputs": [],
   "source": [
    "label_indices = [label_dict[label] for label in labels]"
   ]
  },
  {
   "cell_type": "code",
   "execution_count": null,
   "id": "a231a113",
   "metadata": {},
   "outputs": [],
   "source": [
    "summary_features = [text_summarizer.summary(article) for article in features]"
   ]
  },
  {
   "cell_type": "code",
   "execution_count": null,
   "id": "3ead71fa-26b3-4a35-bada-5bdb3102c14e",
   "metadata": {},
   "outputs": [],
   "source": [
    "features = [processing(article, stopwordLst) for article in summary_features]"
   ]
  },
  {
   "cell_type": "code",
   "execution_count": null,
   "id": "25bed99b",
   "metadata": {},
   "outputs": [],
   "source": [
    "def get_TFIDF_feature_extractor(max_feature_dim=5000, ngram_range=(1,2)):\n",
    "    \n",
    "    tfidf_vectorizer = feature_extraction.text.TfidfVectorizer(max_features=5000, ngram_range=ngram_range)\n",
    "    \n",
    "    return tfidf_vectorizer"
   ]
  },
  {
   "cell_type": "code",
   "execution_count": null,
   "id": "df34655f",
   "metadata": {},
   "outputs": [],
   "source": [
    "tfidf_extractor_2gram = get_TFIDF_feature_extractor(max_feature_dim=5000, ngram_range=(1,2))\n",
    "tfidf_feature_train_2gram = tfidf_extractor_2gram.fit_transform(features)"
   ]
  },
  {
   "cell_type": "code",
   "execution_count": null,
   "id": "05b2d65a",
   "metadata": {},
   "outputs": [],
   "source": [
    "test_ratio = 0.2\n",
    "x_train, x_test, y_train, y_test = model_selection.train_test_split(\n",
    "    tfidf_feature_train_2gram, label_indices, \n",
    "    test_size=test_ratio,\n",
    "    stratify=label_indices\n",
    ")\n"
   ]
  },
  {
   "cell_type": "code",
   "execution_count": null,
   "id": "85a22852",
   "metadata": {},
   "outputs": [],
   "source": [
    "def optimize_model_parameter(model, X_train, Y_train):\n",
    "    '''\n",
    "    Perform hyper parameter tuning for model\n",
    "    '''\n",
    "    best_model = model.fit(X_train, Y_train)\n",
    "    #print(svm_grid_model.best_estimator_) \n",
    "    \n",
    "    # Estimate the best accuracy\n",
    "    train_accuracy = best_model.best_score_ *100\n",
    "    print(\"Accuracy for our training dataset with tuning is : {:.2f}%\".format(train_accuracy) )\n",
    "    return best_model\n",
    "\n",
    "def evaluate_model(model, X_test, Y_test):\n",
    "    '''\n",
    "    Initial evaluate model on test set\n",
    "    '''\n",
    "    # Predict topic indices in x_test\n",
    "    Y_test_hat = model.predict(X_test)\n",
    "\n",
    "    # Estimate the testing accuracy\n",
    "    test_accuracy = metrics.accuracy_score(Y_test, Y_test_hat)*100\n",
    "    print(metrics.classification_report(Y_test, Y_test_hat))\n",
    "    print(\"Accuracy for our testing dataset with tuning is : {:.2f}%\".format(test_accuracy) )\n",
    "    return test_accuracy"
   ]
  },
  {
   "cell_type": "code",
   "execution_count": null,
   "id": "e0f25d03",
   "metadata": {},
   "outputs": [],
   "source": [
    "def get_SVM_model():\n",
    "    '''\n",
    "    Get linear SVM model and list of parameters\n",
    "    '''\n",
    "    # Initialize SVM model as a classifier\n",
    "    svm_model = svm.SVC(probability=True) \n",
    "\n",
    "    # Define config for params\n",
    "    param_grid = {'C': [50, 100, 200], \n",
    "                  'kernel': ['linear', 'rbf']} \n",
    "\n",
    "    # Perform Grid search\n",
    "    grid = GridSearchCV(\n",
    "        svm_model, \n",
    "        param_grid, \n",
    "        refit = True, \n",
    "        verbose = 3, \n",
    "        cv=5,\n",
    "        n_jobs=-1\n",
    "    )\n",
    "    \n",
    "    return grid"
   ]
  },
  {
   "cell_type": "code",
   "execution_count": null,
   "id": "c056af18",
   "metadata": {},
   "outputs": [],
   "source": [
    "# Initialize SVM with Grid Search model\n",
    "svm_grid_model = get_SVM_model()\n",
    "\n",
    "# Hyper parameter tuning\n",
    "optimized_model = optimize_model_parameter(svm_grid_model, tfidf_extractor_2gram, y_train)\n",
    "# Classifier pipeline\n",
    "model = pipeline.Pipeline([(\"vectorizer\", tfidf_extractor_2gram),  \n",
    "                           (\"classifier\", optimized_model)])\n",
    "\n",
    "# Predict topic indices in x_test\n",
    "y_test_hat = model.predict(x_test)\n",
    "\n",
    "# Evaluate on test set\n",
    "evaluate_model(model, x_test, y_test)"
   ]
  },
  {
   "cell_type": "code",
   "execution_count": null,
   "id": "3868884c",
   "metadata": {},
   "outputs": [],
   "source": []
  },
  {
   "cell_type": "code",
   "execution_count": null,
   "id": "81a41eb9",
   "metadata": {},
   "outputs": [],
   "source": []
  },
  {
   "cell_type": "code",
   "execution_count": null,
   "id": "8561214d",
   "metadata": {},
   "outputs": [],
   "source": []
  },
  {
   "cell_type": "code",
   "execution_count": null,
   "id": "640a9f7b",
   "metadata": {},
   "outputs": [],
   "source": []
  }
 ],
 "metadata": {
  "interpreter": {
   "hash": "8a41e0f08f37ef5e401a85bb21f7a18fb40e6484359584a8a4c091e0551cf374"
  },
  "kernelspec": {
   "display_name": "Python 3.9.8 ('venv': venv)",
   "language": "python",
   "name": "python3"
  },
  "language_info": {
   "codemirror_mode": {
    "name": "ipython",
    "version": 3
   },
   "file_extension": ".py",
   "mimetype": "text/x-python",
   "name": "python",
   "nbconvert_exporter": "python",
   "pygments_lexer": "ipython3",
   "version": "3.9.8"
  }
 },
 "nbformat": 4,
 "nbformat_minor": 5
}
