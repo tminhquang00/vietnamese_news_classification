{
 "cells": [
  {
   "cell_type": "code",
   "execution_count": 1,
   "id": "74169d3c-c429-4cd1-9691-2eb8953e62b3",
   "metadata": {},
   "outputs": [],
   "source": [
    "import os \n",
    "from random import randint\n",
    "from datetime import datetime\n",
    "from pyvi import ViTokenizer\n",
    "from gensim import corpora, matutils\n",
    "import pandas as pd\n",
    "import numpy as np\n",
    "import matplotlib.pyplot as plt\n",
    "import seaborn as sns\n",
    "from itertools import islice\n",
    "import pickle\n",
    "from sklearn import feature_extraction, model_selection, naive_bayes, pipeline, manifold, preprocessing, metrics, svm\n",
    "from sklearn.model_selection import GridSearchCV, KFold\n",
    "import gensim\n",
    "import gensim.downloader as gensim_api\n",
    "\n",
    "from file_loader import FileStore, FileReader, DataLoader\n",
    "from preprocessing import *\n",
    "import const"
   ]
  },
  {
   "cell_type": "markdown",
   "id": "e6dabbc3-f625-48c8-ba48-b7a9519e0ed4",
   "metadata": {
    "tags": []
   },
   "source": [
    "# Preprocessing"
   ]
  },
  {
   "cell_type": "code",
   "execution_count": 2,
   "id": "179b10ca-af5b-4ea4-b7d3-61e041415610",
   "metadata": {},
   "outputs": [],
   "source": [
    "dataLoader = DataLoader(const.DATA_PATH)\n",
    "data = dataLoader.get_json()\n",
    "\n",
    "fileReader = FileReader('./data/vietnamese-stopwords.txt')\n",
    "stopwordLst = fileReader.read_stopwords()"
   ]
  },
  {
   "cell_type": "code",
   "execution_count": 3,
   "id": "838de69b-c67f-4f0f-9e75-813d1631c7ee",
   "metadata": {},
   "outputs": [
    {
     "data": {
      "text/plain": [
       "33759"
      ]
     },
     "execution_count": 3,
     "metadata": {},
     "output_type": "execute_result"
    }
   ],
   "source": [
    "len(data)"
   ]
  },
  {
   "cell_type": "code",
   "execution_count": 4,
   "id": "6ddcfbde-f93a-46b6-9221-eb433d6814c3",
   "metadata": {},
   "outputs": [
    {
     "data": {
      "text/plain": [
       "{'category': 'Van hoa',\n",
       " 'content': '\\ufeff Ông đồ cuối cùng trên đảo\\n“Vua Tần cỡi cọp chơi tám cõi Trời xanh, kiếm quang sáng chói ... Tiên nhân cầm đuốc khói nhẹ nhàng Mắt say nhòa lệ theo cung đàn”. \\nNgồi trên bãi biển lộng gió, ông đồ Võ Hiển Đạt bất ngờ đọc cho tôi nghe bài Tần vương ẩm tửu của Lý Hạ, người được mệnh danh là “thi quỉ” đời Đường, tiếng tăm và tác phẩm truyền lưu hậu thế không thua kém “thi tiên” Lý Bạch, “thi Phật” Vương Duy, “thi thánh” Đỗ Phủ. Rồi ông tâm sự: “Tôi sinh ra nhằm lúc Nho học mạt vận, may mắn được học dăm chữ thánh hiền. Bây giờ, thỉnh thoảng tôi chỉ còn dùng mớ chữ nghĩa một thời vang bóng này khi có bạn tâm giao hoặc ai đó nhờ viết câu đối xưa”. \\nMen theo con đường bãi biển rợp bóng dừa xanh, tôi về nhà ông ở thôn Tây, xã An Vĩnh, huyện đảo Lý Sơn (Quảng Ngãi). Thời gian như dừng lại trong ngôi nhà cổ của ông đồ cuối cùng ở hòn đảo này. Những bức hoành phi, câu đối được viết bằng mực tàu, bút lông nét chữ như rồng múa phượng bay treo từ hàng cột bờ hiên vào tận bàn thờ tổ tiên giữa gian nhà chính. Bộ sập gụ đã trải hơn trăm năm sáng bóng nước thời gian. Đó là nơi ông thường ngồi xếp bằng để đọc sách và múa bút khi có người xin chữ. Trang trọng nhất trong ngôi nhà cổ là chiếc tủ bằng gỗ lim lúc nào cũng ấm mùi nhang trầm phảng phất trên hàng linh vị thờ các vị tổ tiên. \\nBút tự của ông đồ Đạt có ở khắp nơi trên đảo Lý Sơn Vượt biển ra Lý Sơn, tôi tình cờ biết ông đồ Võ Hiển Đạt khi được chứng kiến một buổi an táng theo nghi lễ mộ gió các ngư dân bất hạnh phải gửi xác dưới lòng đại dương. Thi hài trong quan tài nhỏ chỉ là hình nhân đất sét, nhưng lễ nghi vẫn nghiêm linh với lời tụng kinh, cờ phướn cầu siêu những người đã ra đi mãi mãi không về. Anh cán bộ văn phòng ủy ban huyện cho biết: “Gần nửa thế kỷ qua, đảo này chỉ có một thầy đồ duy nhất và cũng có lẽ là thầy đồ cuối cùng. Không chỉ ở các đình chùa mà tất cả chữ Nho trong bất cứ ngôi nhà nào trên đảo đều do một tay ông viết...”. \\nÔng kể hồi còn nhỏ vùng này chỉ có một trường tiểu học dạy tiếng Pháp; ai muốn học cao hơn phải ra Huế hoặc vào Qui Nhơn. Cụ thân sinh của ông là một đồ nho ẩn dật nhưng phóng khoáng, cho con đi học tiếng Pháp nhưng vẫn khuyên ông nên dùi mài kinh sử với Nho học. \\nĐến bây giờ, ông vẫn nhớ lời cha dạy: “Chữ Pháp giúp con mở mang văn minh, văn hóa. Nhưng chữ Nho mới đủ thâm sâu để dạy con đạo làm người. Con người sinh ra đời không đem đến được gì và chết cũng chẳng mang theo được cái chi, cuối cùng chỉ có cái đạo làm người là ở lại”. \\nNghe lời cha, ông theo cả Nho học lẫn Pháp ngữ nhưng lấy chữ Nho làm trọng. Ông may mắn có nhiều người thầy khả kính uyên thâm cả chữ Nho lẫn chữ Pháp. Chín năm theo các thầy, thêm mười năm tự học từ sách vở, đến năm 30 tuổi Võ Hiển Đạt đã trở thành một người dạy chữ và cho chữ thánh hiền: “Đó cũng là lúc đất nước giao thời, hầu hết lớp trẻ đã chuyển sang dùi mài quốc ngữ hoặc tiếng Pháp. Chữ Nho dần dần trở thành linh tự trên các bàn thờ, đình chùa và trong câu đối của các bậc lớn tuổi giáo huấn lớp hậu sinh gìn giữ đạo đức, gia phong...”. Đến giờ ông vẫn còn gìn giữ nguyên vẹn bộ Tứ Thư được in từ năm 1942 và nhiều đầu sách cổ khác. \\nNgôi nhà cổ của ông đồ trong mùa thu hoạch tỏi Không gặp thời, ông nối bước cha lui về ẩn dật ở hòn đảo nhỏ giữa biển. Ban ngày vừa làm nghề cá vừa trồng rau khoai kiếm sống thanh nhàn, chiều tối mở lớp gõ đầu trẻ. Tuy nhiên, cho dù kính trọng chữ thánh hiền nhưng nhiều gia đình cũng không muốn con em mình theo Nho học chỉ còn một thời vang bóng, vừa khó học vừa không thể xin được việc làm. Thế là lớp học của ông cứ vắng dần, vắng dần cho đến lúc không thể tồn tại được nữa. \\nKhông gõ đầu trẻ nữa nhưng ông trở thành một người cho chữ thánh hiền nổi tiếng ở Lý Sơn dù tuổi mới ngoài tam thập. Chữ của ông trầm mặc, u buồn ở Âm linh tự, nơi thờ cúng đội lính Hoàng Sa kiêu hùng thuở xưa và những người đã bỏ mạng giữa biển khơi. Chữ của ông trang nghiêm như lời gia huấn trên liễn thờ các bậc tiền hiền. \\nChữ của ông cũng huyền ảo, vi diệu trên bàn thờ Nam Hải tướng quân, vị thần tôn kính của ngư dân quanh năm treo mạng trên đầu sóng ngọn gió. Người vui cũng tìm đến ông để xin mấy chữ mới treo trên bàn thờ tổ tiên trong ngày cưới xin, cất nhà mới. Người buồn cũng nài ông vài chữ cho trọn đạo nghĩa trong lễ tang ma. Lúc nào ông cũng vui vẻ viết tặng khi có người đến xin chữ, bởi theo ông đó không chỉ là bổn phận mà còn là cái đạo của người theo Nho học, chọn nhân nghĩa để sống ở đời... \\nĐã sắp đến hồi về với tổ tiên, ông nói không còn gì phải hối tiếc nhưng chỉ buồn một điều là chưa có một người học trò chân truyền nào để gửi gắm lại cái chữ, cái đạo của thánh hiền, kể cả con cái. Con ông người bám đảo làm nghề biển, người vào Sài Gòn bươn chải mưu sinh... “Nhiều lúc tôi đành ngẫm nghĩ hình như cái gì cũng có vận thịnh suy của nó. Nho học cũng vậy thôi!” - ông trầm ngâm tâm sự rồi mài mực, trải giấy, khai bút tặng tôi một chữ “Tâm” làm hành trang trở về với đất liền... \\nTheo ông đồ Đạt, người cho chữ thánh hiền ngày nay tuy không còn khắt khe như xưa nữa nhưng vẫn có một số điều cần tôn trọng, gìn giữ để bút lực có thể đạt đến sự tinh tế, đến cái hồn sâu thẳm của từng nét chữ. Ông không viết khi mưa gió. Ông cũng không cầm bút khi trời mây âm u, hay lúc tịch dương ngả bóng ảm đạm. Ông thường đề bút vào buổi sáng, thời điểm mặt trời bắt đầu tỏa nắng ấm. \\nSau khi thắp nén hương trầm lên bàn thờ và cạn mấy tách trà, ông mới chấm bút lông vào mực. Và lúc nét bút bắt đầu lướt trên giấy đỏ, tâm người viết thanh tịnh như mặt nước hồ thu, không vọng danh lợi, không sợ không khinh, cũng không vui không buồn... Tất cả chỉ còn có chữ, và tâm người viết sẽ bộc lộ trên cái thần, cái hồn của nét chữ. \\n\\n\\n'}"
      ]
     },
     "execution_count": 4,
     "metadata": {},
     "output_type": "execute_result"
    }
   ],
   "source": [
    "data[0]"
   ]
  },
  {
   "cell_type": "code",
   "execution_count": 5,
   "id": "ea1f40a7-3ea6-4b36-86ca-b13048eb7400",
   "metadata": {},
   "outputs": [
    {
     "data": {
      "text/plain": [
       "'đồ đảo vua tần cỡi cọp tám cõi trời xanh kiếm quang chói tiên_nhân cầm đuốc khói nhẹ_nhàng mắt say nhòa lệ cung đàn bãi biển lộng_gió đồ võ hiển đọc tần vương ẩm tửu lý hạ mệnh_danh thi quỉ đời đường tiếng_tăm tác_phẩm truyền lưu hậu_thế thua_kém thi tiên lý bạch thi phật vương thi thánh đỗ_phủ tâm_sự sinh nho_học mạt_vận may_mắn học dăm chữ thánh_hiền mớ chữ_nghĩa thời vang bóng tâm_giao viết câu_đối xưa men đường bãi biển rợp bóng dừa xanh thôn tây xã an vĩnh huyện đảo lý sơn quảng_ngãi dừng cổ đồ hòn đảo hoành_phi câu_đối viết mực_tàu bút_lông nét chữ rồng múa phượng bay treo hàng cột bờ hiên tận bàn_thờ tổ_tiên gian sập gụ trải trăm bóng_nước xếp_bằng đọc sách múa bút chữ trang_trọng cổ tủ gỗ lim ấm mùi nhang trầm phảng_phất hàng linh vị thờ vị tổ_tiên bút đồ khắp đảo lý sơn biển lý sơn tình_cờ đồ võ hiển chứng_kiến an_táng nghi_lễ mộ gió ngư_dân bất_hạnh gửi xác đại_dương thi_hài quan_tài hình_nhân đất_sét lễ_nghi nghiêm linh tụng kinh cờ phướn cầu_siêu đi mãi_mãi cán_bộ văn_phòng ủy_ban huyện nửa thế_kỷ đảo thầy đồ duy_nhất có_lẽ thầy đồ đình chùa chữ_nho đảo viết hồi trường tiểu_học dạy tiếng pháp học huế qui nhơn cụ thân_sinh đồ nho ẩn_dật phóng_khoáng đi học tiếng pháp khuyên dùi mài kinh_sử nho_học dạy chữ pháp giúp văn_minh văn_hóa chữ_nho thâm sâu dạy đạo con_người sinh ra_đời đem chết chẳng chi đạo nho_học lẫn pháp ngữ chữ_nho trọng may_mắn thầy khả_kính uyên_thâm chữ_nho lẫn chữ pháp chín thầy mười học sách_vở năm_tuổi võ hiển dạy chữ chữ thánh_hiền đất_nước giao_thời lớp trẻ dùi mài quốc_ngữ tiếng pháp chữ_nho linh bàn_thờ đình chùa câu_đối bậc lớn_tuổi giáo huấn lớp hậu_sinh gìn_giữ đạo_đức gia phong gìn_giữ nguyên_vẹn tứ_thư in đầu_sách cổ cổ đồ mùa thu_hoạch tỏi thời nối lui ẩn_dật hòn đảo biển ban_ngày nghề cá trồng rau khoai kiếm sống thanh_nhàn chiều_tối lớp gõ đầu_trẻ cho_dù kính_trọng chữ thánh_hiền gia_đình con_em nho_học thời vang bóng học việc_làm lớp_học vắng dần vắng dần tồn_tại gõ đầu trẻ chữ thánh_hiền nổi_tiếng lý sơn tam thập chữ trầm_mặc u_buồn âm linh thờ_cúng đội lính hoàng_sa kiêu hùng thuở xưa bỏ_mạng biển khơi chữ trang_nghiêm gia huấn liễn thờ bậc tiền hiền chữ huyền_ảo vi diệu bàn_thờ nam hải tướng quân vị thần tôn_kính ngư_dân quanh_năm treo mạng đầu sóng gió vui mấy chữ treo bàn_thờ tổ_tiên cưới_xin cất buồn nài chữ trọn đạo_nghĩa lễ tang ma vui_vẻ viết tặng chữ bổn_phận đạo nho_học nhân_nghĩa sống đời hồi tổ_tiên hối_tiếc buồn học_trò chân truyền gửi_gắm chữ đạo thánh_hiền con_cái bám đảo nghề biển sài_gòn bươn_chải mưu_sinh đành ngẫm_nghĩ hình_như vận thịnh_suy nho_học trầm_ngâm tâm_sự mài mực trải giấy khai_bút tặng chữ tâm hành_trang trở đất_liền đồ chữ thánh_hiền ngày_nay khắt_khe xưa tôn_trọng gìn_giữ bút_lực tinh_tế hồn sâu thẳm nét chữ viết mưa_gió cầm bút trời mây âm_u tịch dương ngả bóng ảm_đạm đề bút mặt_trời bắt_đầu_tỏa nắng ấm thắp nén hương trầm bàn_thờ cạn mấy tách trà chấm bút_lông mực nét bút lướt giấy đỏ tâm viết thanh_tịnh mặt_nước hồ thu vọng danh_lợi sợ khinh vui buồn chữ tâm viết bộc_lộ thần hồn nét chữ'"
      ]
     },
     "execution_count": 5,
     "metadata": {},
     "output_type": "execute_result"
    }
   ],
   "source": [
    "processing(data[0]['content'], stopwordLst)"
   ]
  },
  {
   "cell_type": "code",
   "execution_count": 5,
   "id": "7eede327-a5b9-4aea-8b39-43c27c7a22fb",
   "metadata": {},
   "outputs": [],
   "source": [
    "features = []\n",
    "labels = []"
   ]
  },
  {
   "cell_type": "code",
   "execution_count": 6,
   "id": "ca69c28d-059a-4755-8e51-9de1b5651d0e",
   "metadata": {},
   "outputs": [],
   "source": [
    "for d in data:\n",
    "    features.append(d['content'])\n",
    "    labels.append(d['category'])"
   ]
  },
  {
   "cell_type": "code",
   "execution_count": 7,
   "id": "b5dadd2f-05cc-4c21-bb18-d30aa3814ef5",
   "metadata": {},
   "outputs": [],
   "source": [
    "label_dict = dict(\n",
    "                    zip(\n",
    "                        sorted(set(labels), key=labels.index), \n",
    "                        range(len(labels))\n",
    "                        )\n",
    "                )"
   ]
  },
  {
   "cell_type": "code",
   "execution_count": 8,
   "id": "c72ec352-b332-4621-ba79-29b6c9d19a32",
   "metadata": {},
   "outputs": [
    {
     "data": {
      "text/plain": [
       "{'Van hoa': 0,\n",
       " 'The gioi': 1,\n",
       " 'Khoa hoc': 2,\n",
       " 'Suc khoe': 3,\n",
       " 'Chinh tri Xa hoi': 4,\n",
       " 'Vi tinh': 5,\n",
       " 'Kinh doanh': 6,\n",
       " 'The thao': 7,\n",
       " 'Phap luat': 8,\n",
       " 'Doi song': 9}"
      ]
     },
     "execution_count": 8,
     "metadata": {},
     "output_type": "execute_result"
    }
   ],
   "source": [
    "label_dict"
   ]
  },
  {
   "cell_type": "code",
   "execution_count": 9,
   "id": "5bc2f609-77bb-445a-b374-06c743379fc4",
   "metadata": {},
   "outputs": [],
   "source": [
    "label_indices = [label_dict[label] for label in labels]"
   ]
  },
  {
   "cell_type": "code",
   "execution_count": 10,
   "id": "709db806-cee7-4a9d-911c-622de2a0983a",
   "metadata": {},
   "outputs": [],
   "source": [
    "features = [processing(article, stopwordLst) for article in features]"
   ]
  },
  {
   "cell_type": "code",
   "execution_count": 11,
   "id": "6d8aa6f2-61a6-4542-a800-c7b40dca5c47",
   "metadata": {},
   "outputs": [
    {
     "data": {
      "image/png": "[encoded data removed]",
      "text/plain": [
       "<Figure size 432x288 with 1 Axes>"
      ]
     },
     "metadata": {
      "needs_background": "light"
     },
     "output_type": "display_data"
    }
   ],
   "source": [
    "label_series = pd.Series(label_indices)\n",
    "\n",
    "label_series.hist(bins=10)\n",
    "plt.xticks(range(10))\n",
    "\n",
    "plt.ylabel('Records')\n",
    "plt.xlabel('Topic')\n",
    "plt.title('Distribution of 2 class spam and milk')\n",
    "plt.show()"
   ]
  },
  {
   "cell_type": "markdown",
   "id": "1a75e4a4-dbac-4d43-9489-1479199b5a49",
   "metadata": {},
   "source": [
    "# Feature extraction"
   ]
  },
  {
   "cell_type": "code",
   "execution_count": 12,
   "id": "4377d3b6-73bd-468e-a509-6baf22c23476",
   "metadata": {},
   "outputs": [],
   "source": [
    "test_ratio = 0.2\n",
    "x_train, x_test, y_train, y_test = model_selection.train_test_split(\n",
    "    features, label_indices, \n",
    "    test_size=test_ratio,\n",
    "    stratify=label_indices\n",
    ")"
   ]
  },
  {
   "cell_type": "markdown",
   "id": "a5adb201-ef70-45d5-b39a-4e48af40e384",
   "metadata": {},
   "source": [
    "# TF - IDF"
   ]
  },
  {
   "cell_type": "code",
   "execution_count": 13,
   "id": "284bd752-f16e-46af-bac1-7f7f188b0d99",
   "metadata": {},
   "outputs": [],
   "source": [
    "def get_TFIDF_feature_extractor(max_feature_dim=5000, ngram_range=(1,2)):\n",
    "    \n",
    "    tfidf_vectorizer = feature_extraction.text.TfidfVectorizer(max_features=5000, ngram_range=ngram_range)\n",
    "    \n",
    "    return tfidf_vectorizer"
   ]
  },
  {
   "cell_type": "code",
   "execution_count": 14,
   "id": "c9ec363e-59a8-4fa8-bb3b-cfcbc5f026cf",
   "metadata": {},
   "outputs": [],
   "source": [
    "# Extract TFIDF features\n",
    "tfidf_extractor_1gram = get_TFIDF_feature_extractor(max_feature_dim=10000, ngram_range=(1,1))\n",
    "tfidf_feature_train_1gram = tfidf_extractor_1gram.fit_transform(x_train)\n",
    "\n",
    "tfidf_extractor_2gram = get_TFIDF_feature_extractor(max_feature_dim=10000, ngram_range=(1,2))\n",
    "tfidf_feature_train_2gram = tfidf_extractor_2gram.fit_transform(x_train)\n",
    "\n",
    "tfidf_extractor_3gram = get_TFIDF_feature_extractor(max_feature_dim=10000, ngram_range=(1,3))\n",
    "tfidf_feature_train_3gram = tfidf_extractor_3gram.fit_transform(x_train)\n"
   ]
  },
  {
   "cell_type": "markdown",
   "id": "b598aff8-a4cd-4a38-ba51-fadc18de0904",
   "metadata": {},
   "source": [
    "# Model"
   ]
  },
  {
   "cell_type": "code",
   "execution_count": 15,
   "id": "170f92ad-bec0-44bc-8292-7bfc67f6ba34",
   "metadata": {
    "tags": []
   },
   "outputs": [],
   "source": [
    "# This function is to plot the confusion matrix\n",
    "def plot_confusion_matrix(cm,\n",
    "                          target_names,\n",
    "                          title='Confusion matrix',\n",
    "                          cmap=None,\n",
    "                          normalize=False):\n",
    "    import matplotlib.pyplot as plt\n",
    "    import numpy as np\n",
    "    import itertools\n",
    "\n",
    "    accuracy = np.trace(cm) / np.sum(cm).astype('float')\n",
    "    misclass = 1 - accuracy\n",
    "\n",
    "    if cmap is None:\n",
    "        cmap = plt.get_cmap('Blues')\n",
    "\n",
    "    plt.figure(figsize=(12, 12))\n",
    "    plt.imshow(cm, interpolation='nearest', cmap=cmap)\n",
    "    plt.title(title)\n",
    "    plt.colorbar()\n",
    "\n",
    "    if target_names is not None:\n",
    "        tick_marks = np.arange(len(target_names))\n",
    "        plt.xticks(tick_marks, target_names, rotation=90)\n",
    "        plt.yticks(tick_marks, target_names)\n",
    "\n",
    "    if normalize:\n",
    "        cm = cm.astype('float') / cm.sum(axis=1)[:, np.newaxis]\n",
    "\n",
    "\n",
    "    thresh = cm.max() / 1.5 if normalize else cm.max() / 2\n",
    "    for i, j in itertools.product(range(cm.shape[0]), range(cm.shape[1])):\n",
    "        if normalize:\n",
    "            plt.text(j, i, \"{:0.4f}\".format(cm[i, j]),\n",
    "                     horizontalalignment=\"center\",\n",
    "                     color=\"white\" if cm[i, j] > thresh else \"black\")\n",
    "        else:\n",
    "            plt.text(j, i, \"{:,}\".format(cm[i, j]),\n",
    "                     horizontalalignment=\"center\",\n",
    "                     color=\"white\" if cm[i, j] > thresh else \"black\")\n",
    "\n",
    "\n",
    "    plt.tight_layout()\n",
    "    plt.ylabel('True label')\n",
    "    plt.xlabel('Predicted label\\naccuracy={:0.4f}; misclass={:0.4f}'.format(accuracy, misclass))\n",
    "    plt.show()"
   ]
  },
  {
   "cell_type": "code",
   "execution_count": 16,
   "id": "32452ecf-266a-43ca-87a6-9b57ce951adb",
   "metadata": {},
   "outputs": [],
   "source": [
    "def optimize_model_parameter(model, X_train, Y_train):\n",
    "    '''\n",
    "    Perform hyper parameter tuning for model\n",
    "    '''\n",
    "    best_model = model.fit(X_train, Y_train)\n",
    "    #print(svm_grid_model.best_estimator_) \n",
    "    \n",
    "    # Estimate the best accuracy\n",
    "    train_accuracy = best_model.best_score_ *100\n",
    "    print(\"Accuracy for our training dataset with tuning is : {:.2f}%\".format(train_accuracy) )\n",
    "    return best_model\n",
    "\n",
    "def evaluate_model(model, X_test, Y_test):\n",
    "    '''\n",
    "    Initial evaluate model on test set\n",
    "    '''\n",
    "    # Predict topic indices in x_test\n",
    "    y_test_hat = model.predict(x_test)\n",
    "\n",
    "    # Estimate the testing accuracy\n",
    "    test_accuracy = metrics.accuracy_score(y_test,y_test_hat)*100\n",
    "    print(\"Accuracy for our testing dataset with tuning is : {:.2f}%\".format(test_accuracy) )\n",
    "    return test_accuracy"
   ]
  },
  {
   "cell_type": "markdown",
   "id": "78730b1f-2732-45ac-8e4e-3d6709e6d876",
   "metadata": {},
   "source": [
    "## SVM "
   ]
  },
  {
   "cell_type": "code",
   "execution_count": 17,
   "id": "21c93b65-2991-4020-bbc8-6c74d444a280",
   "metadata": {},
   "outputs": [],
   "source": [
    "def get_SVM_model():\n",
    "    '''\n",
    "    Get linear SVM model and list of parameters\n",
    "    '''\n",
    "    # Initialize SVM model as a classifier\n",
    "    svm_model = svm.SVC(probability=True) \n",
    "\n",
    "    # Define config for params\n",
    "    param_grid = {'C': [ 100, 200], \n",
    "                  'kernel': ['linear', 'rbf']} \n",
    "\n",
    "    # Perform Grid search\n",
    "    grid = GridSearchCV(\n",
    "        svm_model, \n",
    "        param_grid, \n",
    "        refit = True, \n",
    "        verbose = 3, \n",
    "        cv=5,\n",
    "        n_jobs=-1\n",
    "    )\n",
    "    \n",
    "    return grid"
   ]
  },
  {
   "cell_type": "markdown",
   "id": "cc78a10d-94b7-4094-b8e9-5bc80fb38532",
   "metadata": {},
   "source": [
    "### TF-IDF "
   ]
  },
  {
   "cell_type": "code",
   "execution_count": 18,
   "id": "ba85ecd0-7855-449d-a907-949d37c54bfa",
   "metadata": {},
   "outputs": [
    {
     "name": "stdout",
     "output_type": "stream",
     "text": [
      "Fitting 5 folds for each of 4 candidates, totalling 20 fits\n",
      "[CV 4/5] END ..............C=100, kernel=linear;, score=0.896 total time=19.2min\n",
      "[CV 5/5] END ..............C=100, kernel=linear;, score=0.893 total time=19.2min\n",
      "[CV 1/5] END ..............C=200, kernel=linear;, score=0.906 total time=19.4min\n",
      "[CV 1/5] END ..............C=100, kernel=linear;, score=0.906 total time=19.4min\n",
      "[CV 3/5] END ..............C=100, kernel=linear;, score=0.898 total time=19.5min\n",
      "[CV 2/5] END ..............C=200, kernel=linear;, score=0.906 total time=19.5min\n",
      "[CV 2/5] END ..............C=100, kernel=linear;, score=0.907 total time=19.6min\n",
      "[CV 4/5] END ..............C=200, kernel=linear;, score=0.895 total time=21.9min\n",
      "[CV 5/5] END ..............C=200, kernel=linear;, score=0.893 total time=22.1min\n",
      "[CV 3/5] END ..............C=200, kernel=linear;, score=0.897 total time=22.3min\n",
      "[CV 4/5] END .................C=100, kernel=rbf;, score=0.909 total time=55.2min\n",
      "[CV 5/5] END .................C=100, kernel=rbf;, score=0.910 total time=55.6min\n",
      "[CV 1/5] END .................C=100, kernel=rbf;, score=0.915 total time=56.3min\n",
      "[CV 3/5] END .................C=100, kernel=rbf;, score=0.916 total time=56.3min\n",
      "[CV 2/5] END .................C=100, kernel=rbf;, score=0.919 total time=56.9min\n",
      "[CV 4/5] END .................C=200, kernel=rbf;, score=0.909 total time=59.1min\n",
      "[CV 1/5] END .................C=200, kernel=rbf;, score=0.915 total time=59.8min\n",
      "[CV 3/5] END .................C=200, kernel=rbf;, score=0.916 total time=59.8min\n",
      "[CV 2/5] END .................C=200, kernel=rbf;, score=0.919 total time=60.0min\n",
      "[CV 5/5] END .................C=200, kernel=rbf;, score=0.909 total time=51.7min\n",
      "Accuracy for our training dataset with tuning is : 91.38%\n",
      "Accuracy for our testing dataset with tuning is : 91.99%\n"
     ]
    },
    {
     "data": {
      "text/plain": [
       "91.98755924170617"
      ]
     },
     "execution_count": 18,
     "metadata": {},
     "output_type": "execute_result"
    }
   ],
   "source": [
    "# Initialize SVM with Grid Search model\n",
    "svm_grid_model = get_SVM_model()\n",
    "\n",
    "# Hyper parameter tuning\n",
    "optimized_model = optimize_model_parameter(svm_grid_model, tfidf_feature_train_1gram, y_train)\n",
    "# Classifier pipeline\n",
    "model = pipeline.Pipeline([(\"vectorizer\", tfidf_extractor_1gram),  \n",
    "                           (\"classifier\", optimized_model)])\n",
    "\n",
    "# Predict topic indices in x_test\n",
    "y_test_hat = model.predict(x_test)\n",
    "\n",
    "# Evaluate on test set\n",
    "evaluate_model(model, x_test, y_test)"
   ]
  },
  {
   "cell_type": "code",
   "execution_count": 19,
   "id": "e9e7c0c9-997d-4451-ada5-85a6bcd99c32",
   "metadata": {},
   "outputs": [
    {
     "name": "stdout",
     "output_type": "stream",
     "text": [
      "              precision    recall  f1-score   support\n",
      "\n",
      "           0       0.95      0.92      0.94       616\n",
      "           1       0.94      0.93      0.93       579\n",
      "           2       0.86      0.82      0.84       364\n",
      "           3       0.89      0.95      0.92       677\n",
      "           4       0.85      0.89      0.87      1044\n",
      "           5       0.95      0.95      0.95       496\n",
      "           6       0.91      0.91      0.91       510\n",
      "           7       0.99      0.99      0.99      1060\n",
      "           8       0.95      0.90      0.93       774\n",
      "           9       0.88      0.88      0.88       632\n",
      "\n",
      "    accuracy                           0.92      6752\n",
      "   macro avg       0.92      0.91      0.92      6752\n",
      "weighted avg       0.92      0.92      0.92      6752\n",
      "\n"
     ]
    }
   ],
   "source": [
    "print(metrics.classification_report(y_test, y_test_hat))\n",
    "confus_mat = metrics.confusion_matrix(y_test, y_test_hat)\n"
   ]
  },
  {
   "cell_type": "code",
   "execution_count": 20,
   "id": "39e7943c",
   "metadata": {},
   "outputs": [
    {
     "data": {
      "text/plain": [
       "array([[ 569,    6,    4,    4,   15,    2,    0,    1,    1,   14],\n",
       "       [   3,  537,    4,    6,   10,    4,    7,    0,    1,    7],\n",
       "       [   4,    4,  299,   25,   15,    3,    2,    0,    0,   12],\n",
       "       [   2,    3,   12,  642,    9,    0,    0,    2,    1,    6],\n",
       "       [   6,    5,    5,   21,  932,    4,   22,    2,   23,   24],\n",
       "       [   2,    2,    5,    1,    6,  473,    6,    0,    0,    1],\n",
       "       [   0,    5,    3,    3,   24,    3,  462,    1,    3,    6],\n",
       "       [   2,    3,    1,    1,    1,    2,    0, 1046,    2,    2],\n",
       "       [   3,    3,    1,    3,   49,    3,    9,    3,  698,    2],\n",
       "       [  10,    2,   12,   13,   33,    2,    1,    4,    2,  553]])"
      ]
     },
     "execution_count": 20,
     "metadata": {},
     "output_type": "execute_result"
    }
   ],
   "source": [
    "confus_mat"
   ]
  },
  {
   "cell_type": "code",
   "execution_count": 21,
   "id": "f50cb71b-a084-4f9f-b25d-25cff0b53850",
   "metadata": {},
   "outputs": [
    {
     "name": "stdout",
     "output_type": "stream",
     "text": [
      "Fitting 5 folds for each of 4 candidates, totalling 20 fits\n",
      "[CV 4/5] END ..............C=100, kernel=linear;, score=0.893 total time=16.4min\n",
      "[CV 5/5] END ..............C=100, kernel=linear;, score=0.896 total time=16.4min\n",
      "[CV 1/5] END ..............C=200, kernel=linear;, score=0.906 total time=16.5min\n",
      "[CV 1/5] END ..............C=100, kernel=linear;, score=0.906 total time=16.5min\n",
      "[CV 3/5] END ..............C=100, kernel=linear;, score=0.897 total time=16.6min\n",
      "[CV 2/5] END ..............C=200, kernel=linear;, score=0.902 total time=16.6min\n",
      "[CV 2/5] END ..............C=100, kernel=linear;, score=0.904 total time=16.7min\n",
      "[CV 4/5] END ..............C=200, kernel=linear;, score=0.893 total time=16.5min\n",
      "[CV 5/5] END ..............C=200, kernel=linear;, score=0.896 total time=16.5min\n",
      "[CV 3/5] END ..............C=200, kernel=linear;, score=0.897 total time=16.7min\n",
      "[CV 4/5] END .................C=100, kernel=rbf;, score=0.907 total time=39.8min\n",
      "[CV 5/5] END .................C=100, kernel=rbf;, score=0.907 total time=39.8min\n",
      "[CV 3/5] END .................C=100, kernel=rbf;, score=0.915 total time=40.3min\n",
      "[CV 1/5] END .................C=100, kernel=rbf;, score=0.914 total time=40.5min\n",
      "[CV 2/5] END .................C=100, kernel=rbf;, score=0.919 total time=40.6min\n",
      "[CV 4/5] END .................C=200, kernel=rbf;, score=0.906 total time=34.2min\n",
      "[CV 3/5] END .................C=200, kernel=rbf;, score=0.915 total time=34.5min\n",
      "[CV 1/5] END .................C=200, kernel=rbf;, score=0.914 total time=34.8min\n",
      "[CV 2/5] END .................C=200, kernel=rbf;, score=0.919 total time=34.8min\n",
      "[CV 5/5] END .................C=200, kernel=rbf;, score=0.907 total time=25.5min\n",
      "Accuracy for our training dataset with tuning is : 91.23%\n",
      "Accuracy for our testing dataset with tuning is : 92.21%\n"
     ]
    },
    {
     "data": {
      "text/plain": [
       "92.20971563981043"
      ]
     },
     "execution_count": 21,
     "metadata": {},
     "output_type": "execute_result"
    }
   ],
   "source": [
    "# Initialize SVM with Grid Search model\n",
    "svm_grid_model = get_SVM_model()\n",
    "\n",
    "# Hyper parameter tuning\n",
    "optimized_model = optimize_model_parameter(svm_grid_model, tfidf_feature_train_2gram, y_train)\n",
    "# Classifier pipeline\n",
    "model = pipeline.Pipeline([(\"vectorizer\", tfidf_extractor_2gram),  \n",
    "                           (\"classifier\", optimized_model)])\n",
    "\n",
    "# Predict topic indices in x_test\n",
    "y_test_hat = model.predict(x_test)\n",
    "\n",
    "# Evaluate on test set\n",
    "evaluate_model(model, x_test, y_test)"
   ]
  },
  {
   "cell_type": "code",
   "execution_count": 22,
   "id": "83326984-08b8-4f81-a774-8bdb2c761cf1",
   "metadata": {},
   "outputs": [
    {
     "name": "stdout",
     "output_type": "stream",
     "text": [
      "              precision    recall  f1-score   support\n",
      "\n",
      "           0       0.95      0.93      0.94       616\n",
      "           1       0.94      0.93      0.94       579\n",
      "           2       0.87      0.83      0.85       364\n",
      "           3       0.90      0.95      0.92       677\n",
      "           4       0.85      0.90      0.87      1044\n",
      "           5       0.95      0.96      0.95       496\n",
      "           6       0.91      0.91      0.91       510\n",
      "           7       0.99      0.99      0.99      1060\n",
      "           8       0.96      0.91      0.93       774\n",
      "           9       0.89      0.88      0.88       632\n",
      "\n",
      "    accuracy                           0.92      6752\n",
      "   macro avg       0.92      0.92      0.92      6752\n",
      "weighted avg       0.92      0.92      0.92      6752\n",
      "\n"
     ]
    },
    {
     "data": {
      "text/plain": [
       "array([[ 571,    5,    2,    3,   16,    2,    1,    1,    1,   14],\n",
       "       [   3,  537,    4,    6,   11,    3,    7,    1,    1,    6],\n",
       "       [   3,    4,  301,   24,   16,    4,    1,    0,    0,   11],\n",
       "       [   2,    5,   12,  642,    8,    0,    0,    2,    0,    6],\n",
       "       [   6,    7,    4,   21,  935,    4,   19,    2,   23,   23],\n",
       "       [   2,    1,    6,    1,    5,  474,    6,    0,    0,    1],\n",
       "       [   0,    2,    3,    3,   27,    3,  463,    0,    4,    5],\n",
       "       [   2,    3,    1,    1,    2,    2,    0, 1046,    1,    2],\n",
       "       [   3,    3,    1,    2,   43,    3,   10,    4,  703,    2],\n",
       "       [   8,    2,   12,   13,   33,    2,    3,    3,    2,  554]])"
      ]
     },
     "execution_count": 22,
     "metadata": {},
     "output_type": "execute_result"
    }
   ],
   "source": [
    "print(metrics.classification_report(y_test, y_test_hat))\n",
    "confus_mat = metrics.confusion_matrix(y_test, y_test_hat)\n",
    "confus_mat"
   ]
  },
  {
   "cell_type": "code",
   "execution_count": 23,
   "id": "a9f1019d-f5e1-4872-b773-17f061410e44",
   "metadata": {},
   "outputs": [
    {
     "name": "stdout",
     "output_type": "stream",
     "text": [
      "Fitting 5 folds for each of 4 candidates, totalling 20 fits\n",
      "[CV 4/5] END ..............C=100, kernel=linear;, score=0.893 total time=16.4min\n",
      "[CV 5/5] END ..............C=100, kernel=linear;, score=0.894 total time=16.4min\n",
      "[CV 1/5] END ..............C=200, kernel=linear;, score=0.907 total time=16.6min\n",
      "[CV 1/5] END ..............C=100, kernel=linear;, score=0.907 total time=16.6min\n",
      "[CV 3/5] END ..............C=100, kernel=linear;, score=0.898 total time=16.7min\n",
      "[CV 2/5] END ..............C=100, kernel=linear;, score=0.906 total time=16.7min\n",
      "[CV 2/5] END ..............C=200, kernel=linear;, score=0.904 total time=16.7min\n",
      "[CV 4/5] END ..............C=200, kernel=linear;, score=0.892 total time=16.2min\n",
      "[CV 5/5] END ..............C=200, kernel=linear;, score=0.894 total time=16.3min\n",
      "[CV 3/5] END ..............C=200, kernel=linear;, score=0.897 total time=16.5min\n",
      "[CV 4/5] END .................C=100, kernel=rbf;, score=0.907 total time=40.0min\n",
      "[CV 5/5] END .................C=100, kernel=rbf;, score=0.907 total time=40.0min\n",
      "[CV 1/5] END .................C=100, kernel=rbf;, score=0.914 total time=40.4min\n",
      "[CV 3/5] END .................C=100, kernel=rbf;, score=0.916 total time=40.5min\n",
      "[CV 2/5] END .................C=100, kernel=rbf;, score=0.919 total time=40.5min\n",
      "[CV 4/5] END .................C=200, kernel=rbf;, score=0.907 total time=34.3min\n",
      "[CV 1/5] END .................C=200, kernel=rbf;, score=0.914 total time=34.6min\n",
      "[CV 3/5] END .................C=200, kernel=rbf;, score=0.916 total time=34.6min\n",
      "[CV 2/5] END .................C=200, kernel=rbf;, score=0.919 total time=34.7min\n",
      "[CV 5/5] END .................C=200, kernel=rbf;, score=0.907 total time=25.8min\n",
      "Accuracy for our training dataset with tuning is : 91.25%\n",
      "Accuracy for our testing dataset with tuning is : 92.21%\n"
     ]
    },
    {
     "data": {
      "text/plain": [
       "92.20971563981043"
      ]
     },
     "execution_count": 23,
     "metadata": {},
     "output_type": "execute_result"
    }
   ],
   "source": [
    "# Initialize SVM with Grid Search model\n",
    "svm_grid_model = get_SVM_model()\n",
    "\n",
    "# Hyper parameter tuning\n",
    "optimized_model = optimize_model_parameter(svm_grid_model, tfidf_feature_train_3gram, y_train)\n",
    "# Classifier pipeline\n",
    "model = pipeline.Pipeline([(\"vectorizer\", tfidf_extractor_3gram),  \n",
    "                           (\"classifier\", optimized_model)])\n",
    "\n",
    "# Predict topic indices in x_test\n",
    "y_test_hat = model.predict(x_test)\n",
    "\n",
    "# Evaluate on test set\n",
    "evaluate_model(model, x_test, y_test)"
   ]
  },
  {
   "cell_type": "code",
   "execution_count": 24,
   "id": "1d7becea-3013-4b75-b758-5ef8e464a505",
   "metadata": {},
   "outputs": [
    {
     "name": "stdout",
     "output_type": "stream",
     "text": [
      "              precision    recall  f1-score   support\n",
      "\n",
      "           0       0.95      0.93      0.94       616\n",
      "           1       0.94      0.93      0.94       579\n",
      "           2       0.87      0.83      0.85       364\n",
      "           3       0.90      0.95      0.92       677\n",
      "           4       0.85      0.89      0.87      1044\n",
      "           5       0.96      0.96      0.96       496\n",
      "           6       0.91      0.91      0.91       510\n",
      "           7       0.99      0.99      0.99      1060\n",
      "           8       0.96      0.91      0.93       774\n",
      "           9       0.89      0.88      0.88       632\n",
      "\n",
      "    accuracy                           0.92      6752\n",
      "   macro avg       0.92      0.92      0.92      6752\n",
      "weighted avg       0.92      0.92      0.92      6752\n",
      "\n"
     ]
    }
   ],
   "source": [
    "print(metrics.classification_report(y_test, y_test_hat))\n",
    "confus_mat = metrics.confusion_matrix(y_test, y_test_hat)\n"
   ]
  },
  {
   "cell_type": "code",
   "execution_count": 25,
   "id": "c6835b67-c2e9-4fa1-9580-ce51d61d2600",
   "metadata": {},
   "outputs": [
    {
     "data": {
      "text/plain": [
       "array([[ 572,    5,    2,    3,   16,    2,    0,    1,    1,   14],\n",
       "       [   3,  538,    4,    6,   10,    3,    7,    1,    1,    6],\n",
       "       [   3,    4,  302,   24,   16,    3,    1,    0,    0,   11],\n",
       "       [   2,    5,   12,  642,    8,    0,    0,    2,    0,    6],\n",
       "       [   6,    6,    4,   22,  933,    4,   19,    2,   24,   24],\n",
       "       [   2,    1,    5,    1,    5,  475,    6,    0,    0,    1],\n",
       "       [   0,    2,    3,    3,   27,    3,  462,    1,    3,    6],\n",
       "       [   2,    3,    1,    1,    2,    2,    0, 1046,    1,    2],\n",
       "       [   3,    3,    1,    2,   46,    3,   10,    3,  701,    2],\n",
       "       [   8,    3,   12,   13,   31,    2,    3,    3,    2,  555]])"
      ]
     },
     "execution_count": 25,
     "metadata": {},
     "output_type": "execute_result"
    }
   ],
   "source": [
    "confus_mat"
   ]
  },
  {
   "cell_type": "code",
   "execution_count": null,
   "id": "1a6fc043-75c2-4823-b920-61086f273650",
   "metadata": {},
   "outputs": [],
   "source": []
  },
  {
   "cell_type": "code",
   "execution_count": null,
   "id": "8f65a695-7f11-4c8b-a263-36f23baaf22f",
   "metadata": {},
   "outputs": [],
   "source": []
  },
  {
   "cell_type": "code",
   "execution_count": null,
   "id": "e9eb0f41-69c1-4a7b-9121-f7412af01521",
   "metadata": {},
   "outputs": [],
   "source": []
  }
 ],
 "metadata": {
  "interpreter": {
   "hash": "8a41e0f08f37ef5e401a85bb21f7a18fb40e6484359584a8a4c091e0551cf374"
  },
  "kernelspec": {
   "display_name": "Python 3.9.8 ('venv': venv)",
   "language": "python",
   "name": "python3"
  },
  "language_info": {
   "codemirror_mode": {
    "name": "ipython",
    "version": 3
   },
   "file_extension": ".py",
   "mimetype": "text/x-python",
   "name": "python",
   "nbconvert_exporter": "python",
   "pygments_lexer": "ipython3",
   "version": "3.9.8"
  }
 },
 "nbformat": 4,
 "nbformat_minor": 5
}
