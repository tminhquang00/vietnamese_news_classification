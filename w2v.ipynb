{
 "cells": [
  {
   "cell_type": "code",
   "execution_count": 1,
   "metadata": {},
   "outputs": [],
   "source": [
    "import os \n",
    "from random import randint\n",
    "from datetime import datetime\n",
    "from pyvi import ViTokenizer\n",
    "from gensim import corpora, matutils\n",
    "import pandas as pd\n",
    "import numpy as np\n",
    "import matplotlib.pyplot as plt\n",
    "import seaborn as sns\n",
    "from itertools import islice\n",
    "import pickle\n",
    "from sklearn import feature_extraction, model_selection, naive_bayes, pipeline, manifold, preprocessing, metrics, svm\n",
    "from sklearn.model_selection import GridSearchCV, KFold\n",
    "import gensim\n",
    "import gensim.downloader as gensim_api\n",
    "from gensim.models import Word2Vec\n",
    "\n",
    "from file_loader import FileStore, FileReader, DataLoader\n",
    "from preprocessing import *\n",
    "import const"
   ]
  },
  {
   "cell_type": "code",
   "execution_count": 2,
   "metadata": {},
   "outputs": [],
   "source": [
    "dataLoader = DataLoader(const.DATA_PATH)\n",
    "data = dataLoader.get_json()\n",
    "\n",
    "fileReader = FileReader('./data/vietnamese-stopwords.txt')\n",
    "stopwordLst = fileReader.read_stopwords()"
   ]
  },
  {
   "cell_type": "code",
   "execution_count": 3,
   "metadata": {},
   "outputs": [],
   "source": [
    "features = []\n",
    "labels = []\n",
    "for d in data:\n",
    "    features.append(d['content'])\n",
    "    labels.append(d['category'])"
   ]
  },
  {
   "cell_type": "code",
   "execution_count": 4,
   "metadata": {},
   "outputs": [
    {
     "data": {
      "text/plain": [
       "{'Van hoa': 0,\n",
       " 'The gioi': 1,\n",
       " 'Khoa hoc': 2,\n",
       " 'Suc khoe': 3,\n",
       " 'Chinh tri Xa hoi': 4,\n",
       " 'Vi tinh': 5,\n",
       " 'Kinh doanh': 6,\n",
       " 'The thao': 7,\n",
       " 'Phap luat': 8,\n",
       " 'Doi song': 9}"
      ]
     },
     "execution_count": 4,
     "metadata": {},
     "output_type": "execute_result"
    }
   ],
   "source": [
    "label_dict = dict(\n",
    "                    zip(\n",
    "                        sorted(set(labels), key=labels.index), \n",
    "                        range(len(labels))\n",
    "                        )\n",
    "                )\n",
    "label_dict"
   ]
  },
  {
   "cell_type": "code",
   "execution_count": 5,
   "metadata": {},
   "outputs": [],
   "source": [
    "label_indices = [label_dict[label] for label in labels]"
   ]
  },
  {
   "cell_type": "code",
   "execution_count": 6,
   "metadata": {},
   "outputs": [],
   "source": [
    "features = [processing(article, stopwordLst) for article in features]"
   ]
  },
  {
   "cell_type": "code",
   "execution_count": 7,
   "metadata": {},
   "outputs": [
    {
     "data": {
      "image/png": "[encoded data removed]",
      "text/plain": [
       "<Figure size 432x288 with 1 Axes>"
      ]
     },
     "metadata": {
      "needs_background": "light"
     },
     "output_type": "display_data"
    }
   ],
   "source": [
    "label_series = pd.Series(label_indices)\n",
    "\n",
    "label_series.hist(bins=10)\n",
    "plt.xticks(range(10))\n",
    "\n",
    "plt.ylabel('Records')\n",
    "plt.xlabel('Topic')\n",
    "plt.title('Distribution of 2 class spam and milk')\n",
    "plt.show()"
   ]
  },
  {
   "cell_type": "code",
   "execution_count": 8,
   "metadata": {},
   "outputs": [],
   "source": [
    "def train_word2vec(sentences):\n",
    "    w2v_model = Word2Vec(\n",
    "        sentences,\n",
    "        vector_size=50,\n",
    "        window=3,\n",
    "        min_count=1,\n",
    "        sg= 1,\n",
    "        workers=4,\n",
    "        seed = 42,\n",
    "        epochs =100)\n",
    "    return w2v_model"
   ]
  },
  {
   "cell_type": "code",
   "execution_count": 9,
   "metadata": {},
   "outputs": [
    {
     "name": "stdout",
     "output_type": "stream",
     "text": [
      "['đồ', 'đảo', 'vua', 'tần', 'cỡi', 'cọp', 'tám', 'cõi', 'trời', 'xanh', 'kiếm', 'quang', 'chói', 'tiên_nhân', 'cầm', 'đuốc', 'khói', 'nhẹ_nhàng', 'mắt', 'say', 'nhòa', 'lệ', 'cung', 'đàn', 'bãi', 'biển', 'lộng_gió', 'đồ', 'võ', 'hiển', 'đọc', 'tần', 'vương', 'ẩm', 'tửu', 'lý', 'hạ', 'mệnh_danh', 'thi', 'quỉ', 'đời', 'đường', 'tiếng_tăm', 'tác_phẩm', 'truyền', 'lưu', 'hậu_thế', 'thua_kém', 'thi', 'tiên', 'lý', 'bạch', 'thi', 'phật', 'vương', 'thi', 'thánh', 'đỗ_phủ', 'tâm_sự', 'sinh', 'nho_học', 'mạt_vận', 'may_mắn', 'học', 'dăm', 'chữ', 'thánh_hiền', 'mớ', 'chữ_nghĩa', 'thời', 'vang', 'bóng', 'tâm_giao', 'viết', 'câu_đối', 'xưa', 'men', 'đường', 'bãi', 'biển', 'rợp', 'bóng', 'dừa', 'xanh', 'thôn', 'tây', 'xã', 'an', 'vĩnh', 'huyện', 'đảo', 'lý', 'sơn', 'quảng_ngãi', 'dừng', 'cổ', 'đồ', 'hòn', 'đảo', 'hoành_phi', 'câu_đối', 'viết', 'mực_tàu', 'bút_lông', 'nét', 'chữ', 'rồng', 'múa', 'phượng', 'bay', 'treo', 'hàng', 'cột', 'bờ', 'hiên', 'tận', 'bàn_thờ', 'tổ_tiên', 'gian', 'sập', 'gụ', 'trải', 'trăm', 'bóng_nước', 'xếp_bằng', 'đọc', 'sách', 'múa', 'bút', 'chữ', 'trang_trọng', 'cổ', 'tủ', 'gỗ', 'lim', 'ấm', 'mùi', 'nhang', 'trầm', 'phảng_phất', 'hàng', 'linh', 'vị', 'thờ', 'vị', 'tổ_tiên', 'bút', 'đồ', 'khắp', 'đảo', 'lý', 'sơn', 'biển', 'lý', 'sơn', 'tình_cờ', 'đồ', 'võ', 'hiển', 'chứng_kiến', 'an_táng', 'nghi_lễ', 'mộ', 'gió', 'ngư_dân', 'bất_hạnh', 'gửi', 'xác', 'đại_dương', 'thi_hài', 'quan_tài', 'hình_nhân', 'đất_sét', 'lễ_nghi', 'nghiêm', 'linh', 'tụng', 'kinh', 'cờ', 'phướn', 'cầu_siêu', 'đi', 'mãi_mãi', 'cán_bộ', 'văn_phòng', 'ủy_ban', 'huyện', 'nửa', 'thế_kỷ', 'đảo', 'thầy', 'đồ', 'duy_nhất', 'có_lẽ', 'thầy', 'đồ', 'đình', 'chùa', 'chữ_nho', 'đảo', 'viết', 'hồi', 'trường', 'tiểu_học', 'dạy', 'tiếng', 'pháp', 'học', 'huế', 'qui', 'nhơn', 'cụ', 'thân_sinh', 'đồ', 'nho', 'ẩn_dật', 'phóng_khoáng', 'đi', 'học', 'tiếng', 'pháp', 'khuyên', 'dùi', 'mài', 'kinh_sử', 'nho_học', 'dạy', 'chữ', 'pháp', 'giúp', 'văn_minh', 'văn_hóa', 'chữ_nho', 'thâm', 'sâu', 'dạy', 'đạo', 'con_người', 'sinh', 'ra_đời', 'đem', 'chết', 'chẳng', 'chi', 'đạo', 'nho_học', 'lẫn', 'pháp', 'ngữ', 'chữ_nho', 'trọng', 'may_mắn', 'thầy', 'khả_kính', 'uyên_thâm', 'chữ_nho', 'lẫn', 'chữ', 'pháp', 'chín', 'thầy', 'mười', 'học', 'sách_vở', 'năm_tuổi', 'võ', 'hiển', 'dạy', 'chữ', 'chữ', 'thánh_hiền', 'đất_nước', 'giao_thời', 'lớp', 'trẻ', 'dùi', 'mài', 'quốc_ngữ', 'tiếng', 'pháp', 'chữ_nho', 'linh', 'bàn_thờ', 'đình', 'chùa', 'câu_đối', 'bậc', 'lớn_tuổi', 'giáo', 'huấn', 'lớp', 'hậu_sinh', 'gìn_giữ', 'đạo_đức', 'gia', 'phong', 'gìn_giữ', 'nguyên_vẹn', 'tứ_thư', 'in', 'đầu_sách', 'cổ', 'cổ', 'đồ', 'mùa', 'thu_hoạch', 'tỏi', 'thời', 'nối', 'lui', 'ẩn_dật', 'hòn', 'đảo', 'biển', 'ban_ngày', 'nghề', 'cá', 'trồng', 'rau', 'khoai', 'kiếm', 'sống', 'thanh_nhàn', 'chiều_tối', 'lớp', 'gõ', 'đầu_trẻ', 'cho_dù', 'kính_trọng', 'chữ', 'thánh_hiền', 'gia_đình', 'con_em', 'nho_học', 'thời', 'vang', 'bóng', 'học', 'việc_làm', 'lớp_học', 'vắng', 'dần', 'vắng', 'dần', 'tồn_tại', 'gõ', 'đầu', 'trẻ', 'chữ', 'thánh_hiền', 'nổi_tiếng', 'lý', 'sơn', 'tam', 'thập', 'chữ', 'trầm_mặc', 'u_buồn', 'âm', 'linh', 'thờ_cúng', 'đội', 'lính', 'hoàng_sa', 'kiêu', 'hùng', 'thuở', 'xưa', 'bỏ_mạng', 'biển', 'khơi', 'chữ', 'trang_nghiêm', 'gia', 'huấn', 'liễn', 'thờ', 'bậc', 'tiền', 'hiền', 'chữ', 'huyền_ảo', 'vi', 'diệu', 'bàn_thờ', 'nam', 'hải', 'tướng', 'quân', 'vị', 'thần', 'tôn_kính', 'ngư_dân', 'quanh_năm', 'treo', 'mạng', 'đầu', 'sóng', 'gió', 'vui', 'mấy', 'chữ', 'treo', 'bàn_thờ', 'tổ_tiên', 'cưới_xin', 'cất', 'buồn', 'nài', 'chữ', 'trọn', 'đạo_nghĩa', 'lễ', 'tang', 'ma', 'vui_vẻ', 'viết', 'tặng', 'chữ', 'bổn_phận', 'đạo', 'nho_học', 'nhân_nghĩa', 'sống', 'đời', 'hồi', 'tổ_tiên', 'hối_tiếc', 'buồn', 'học_trò', 'chân', 'truyền', 'gửi_gắm', 'chữ', 'đạo', 'thánh_hiền', 'con_cái', 'bám', 'đảo', 'nghề', 'biển', 'sài_gòn', 'bươn_chải', 'mưu_sinh', 'đành', 'ngẫm_nghĩ', 'hình_như', 'vận', 'thịnh_suy', 'nho_học', 'trầm_ngâm', 'tâm_sự', 'mài', 'mực', 'trải', 'giấy', 'khai_bút', 'tặng', 'chữ', 'tâm', 'hành_trang', 'trở', 'đất_liền', 'đồ', 'chữ', 'thánh_hiền', 'ngày_nay', 'khắt_khe', 'xưa', 'tôn_trọng', 'gìn_giữ', 'bút_lực', 'tinh_tế', 'hồn', 'sâu', 'thẳm', 'nét', 'chữ', 'viết', 'mưa_gió', 'cầm', 'bút', 'trời', 'mây', 'âm_u', 'tịch', 'dương', 'ngả', 'bóng', 'ảm_đạm', 'đề', 'bút', 'mặt_trời', 'bắt_đầu_tỏa', 'nắng', 'ấm', 'thắp', 'nén', 'hương', 'trầm', 'bàn_thờ', 'cạn', 'mấy', 'tách', 'trà', 'chấm', 'bút_lông', 'mực', 'nét', 'bút', 'lướt', 'giấy', 'đỏ', 'tâm', 'viết', 'thanh_tịnh', 'mặt_nước', 'hồ', 'thu', 'vọng', 'danh_lợi', 'sợ', 'khinh', 'vui', 'buồn', 'chữ', 'tâm', 'viết', 'bộc_lộ', 'thần', 'hồn', 'nét', 'chữ']\n",
      "101639\n"
     ]
    }
   ],
   "source": [
    "\n",
    "\n",
    "sentences = [row.strip().split(\" \") for row in features]\n",
    "print(sentences[0])\n",
    "word2vec_model = train_word2vec(sentences)\n",
    "print(len(word2vec_model.wv))\n"
   ]
  },
  {
   "cell_type": "code",
   "execution_count": 16,
   "metadata": {},
   "outputs": [
    {
     "ename": "ValueError",
     "evalue": "operands could not be broadcast together with shapes (300,) (50,) (300,) ",
     "output_type": "error",
     "traceback": [
      "\u001b[0;31m---------------------------------------------------------------------------\u001b[0m",
      "\u001b[0;31mValueError\u001b[0m                                Traceback (most recent call last)",
      "\u001b[1;32m/Users/quangtran/Desktop/vietnamese_news_classification/w2v.ipynb Cell 10'\u001b[0m in \u001b[0;36m<cell line: 2>\u001b[0;34m()\u001b[0m\n\u001b[1;32m      <a href='vscode-notebook-cell:/Users/quangtran/Desktop/vietnamese_news_classification/w2v.ipynb#ch0000012?line=3'>4</a>\u001b[0m \u001b[39mfor\u001b[39;00m word \u001b[39min\u001b[39;00m tweet:\n\u001b[1;32m      <a href='vscode-notebook-cell:/Users/quangtran/Desktop/vietnamese_news_classification/w2v.ipynb#ch0000012?line=4'>5</a>\u001b[0m     \u001b[39mif\u001b[39;00m word \u001b[39min\u001b[39;00m word2vec_model\u001b[39m.\u001b[39mwv:\n\u001b[0;32m----> <a href='vscode-notebook-cell:/Users/quangtran/Desktop/vietnamese_news_classification/w2v.ipynb#ch0000012?line=5'>6</a>\u001b[0m         average_vec \u001b[39m+\u001b[39m\u001b[39m=\u001b[39m (word2vec_model\u001b[39m.\u001b[39mwv[word] \u001b[39m/\u001b[39m \u001b[39mlen\u001b[39m(tweet))\n\u001b[1;32m      <a href='vscode-notebook-cell:/Users/quangtran/Desktop/vietnamese_news_classification/w2v.ipynb#ch0000012?line=6'>7</a>\u001b[0m     \u001b[39melse\u001b[39;00m:\n\u001b[1;32m      <a href='vscode-notebook-cell:/Users/quangtran/Desktop/vietnamese_news_classification/w2v.ipynb#ch0000012?line=7'>8</a>\u001b[0m         \u001b[39mpass\u001b[39;00m\n",
      "\u001b[0;31mValueError\u001b[0m: operands could not be broadcast together with shapes (300,) (50,) (300,) "
     ]
    }
   ],
   "source": [
    "word2vec_feature = []\n",
    "for tweet in sentences:\n",
    "    average_vec = np.zeros(300)\n",
    "    for word in tweet:\n",
    "        if word in word2vec_model.wv:\n",
    "            average_vec += (word2vec_model.wv[word] / len(tweet))\n",
    "        else:\n",
    "            pass\n",
    "    word2vec_feature.append(average_vec)"
   ]
  },
  {
   "cell_type": "code",
   "execution_count": 14,
   "metadata": {},
   "outputs": [
    {
     "ename": "AttributeError",
     "evalue": "'Word2Vec' object has no attribute 'itervalues'",
     "output_type": "error",
     "traceback": [
      "\u001b[0;31m---------------------------------------------------------------------------\u001b[0m",
      "\u001b[0;31mAttributeError\u001b[0m                            Traceback (most recent call last)",
      "\u001b[1;32m/Users/quangtran/Desktop/vietnamese_news_classification/w2v.ipynb Cell 11'\u001b[0m in \u001b[0;36m<cell line: 1>\u001b[0;34m()\u001b[0m\n\u001b[0;32m----> <a href='vscode-notebook-cell:/Users/quangtran/Desktop/vietnamese_news_classification/w2v.ipynb#ch0000013?line=0'>1</a>\u001b[0m w2v \u001b[39m=\u001b[39m MeanEmbeddingVectorizer(word2vec_model)\n",
      "\u001b[1;32m/Users/quangtran/Desktop/vietnamese_news_classification/w2v.ipynb Cell 10'\u001b[0m in \u001b[0;36mMeanEmbeddingVectorizer.__init__\u001b[0;34m(self, word2vec)\u001b[0m\n\u001b[1;32m      <a href='vscode-notebook-cell:/Users/quangtran/Desktop/vietnamese_news_classification/w2v.ipynb#ch0000012?line=2'>3</a>\u001b[0m \u001b[39mself\u001b[39m\u001b[39m.\u001b[39mword2vec \u001b[39m=\u001b[39m word2vec\n\u001b[1;32m      <a href='vscode-notebook-cell:/Users/quangtran/Desktop/vietnamese_news_classification/w2v.ipynb#ch0000012?line=3'>4</a>\u001b[0m \u001b[39m# if a text is empty we should return a vector of zeros\u001b[39;00m\n\u001b[1;32m      <a href='vscode-notebook-cell:/Users/quangtran/Desktop/vietnamese_news_classification/w2v.ipynb#ch0000012?line=4'>5</a>\u001b[0m \u001b[39m# with the same dimensionality as all the other vectors\u001b[39;00m\n\u001b[0;32m----> <a href='vscode-notebook-cell:/Users/quangtran/Desktop/vietnamese_news_classification/w2v.ipynb#ch0000012?line=5'>6</a>\u001b[0m \u001b[39mself\u001b[39m\u001b[39m.\u001b[39mdim \u001b[39m=\u001b[39m \u001b[39mlen\u001b[39m(word2vec\u001b[39m.\u001b[39;49mitervalues()\u001b[39m.\u001b[39mnext())\n",
      "\u001b[0;31mAttributeError\u001b[0m: 'Word2Vec' object has no attribute 'itervalues'"
     ]
    }
   ],
   "source": [
    "w2v = MeanEmbeddingVectorizer(word2vec_model)"
   ]
  },
  {
   "cell_type": "code",
   "execution_count": 20,
   "metadata": {},
   "outputs": [
    {
     "data": {
      "text/plain": [
       "[('khiết', 0.797921895980835),\n",
       " ('huyền', 0.796534538269043),\n",
       " ('ngọc_lan', 0.7943359613418579),\n",
       " ('linh', 0.7859314680099487),\n",
       " ('úc_tỏa', 0.7758122086524963),\n",
       " ('quỳnh', 0.7683915495872498),\n",
       " ('thắm', 0.7655832171440125),\n",
       " ('văn_tụy', 0.7618129849433899),\n",
       " ('bích', 0.7609907388687134),\n",
       " ('hồng', 0.7516719698905945)]"
      ]
     },
     "execution_count": 20,
     "metadata": {},
     "output_type": "execute_result"
    }
   ],
   "source": [
    "word2vec_model.wv.most_similar(positive=[\"hương\"])"
   ]
  },
  {
   "cell_type": "code",
   "execution_count": null,
   "metadata": {},
   "outputs": [],
   "source": []
  }
 ],
 "metadata": {
  "interpreter": {
   "hash": "8a41e0f08f37ef5e401a85bb21f7a18fb40e6484359584a8a4c091e0551cf374"
  },
  "kernelspec": {
   "display_name": "Python 3.9.8 ('venv': venv)",
   "language": "python",
   "name": "python3"
  },
  "language_info": {
   "codemirror_mode": {
    "name": "ipython",
    "version": 3
   },
   "file_extension": ".py",
   "mimetype": "text/x-python",
   "name": "python",
   "nbconvert_exporter": "python",
   "pygments_lexer": "ipython3",
   "version": "3.9.8"
  },
  "orig_nbformat": 4
 },
 "nbformat": 4,
 "nbformat_minor": 2
}
