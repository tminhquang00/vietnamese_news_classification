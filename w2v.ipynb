{
 "cells": [
  {
   "cell_type": "code",
   "execution_count": 1,
   "metadata": {},
   "outputs": [],
   "source": [
    "import os \n",
    "from random import randint\n",
    "from datetime import datetime\n",
    "from pyvi import ViTokenizer\n",
    "from gensim import corpora, matutils\n",
    "import pandas as pd\n",
    "import numpy as np\n",
    "import matplotlib.pyplot as plt\n",
    "from itertools import islice\n",
    "import pickle\n",
    "from sklearn import feature_extraction, model_selection, naive_bayes, pipeline, manifold, preprocessing, metrics, svm\n",
    "from sklearn.model_selection import GridSearchCV, KFold\n",
    "import gensim\n",
    "import gensim.downloader as gensim_api\n",
    "from gensim.models import Word2Vec\n",
    "\n",
    "from file_loader import FileStore, FileReader, DataLoader\n",
    "from preprocessing import *\n",
    "import const"
   ]
  },
  {
   "cell_type": "code",
   "execution_count": 2,
   "metadata": {},
   "outputs": [],
   "source": [
    "dataLoader = DataLoader(const.DATA_PATH)\n",
    "data = dataLoader.get_json()\n",
    "\n",
    "fileReader = FileReader('./data/vietnamese-stopwords.txt')\n",
    "stopwordLst = fileReader.read_stopwords()"
   ]
  },
  {
   "cell_type": "code",
   "execution_count": 3,
   "metadata": {},
   "outputs": [],
   "source": [
    "features = []\n",
    "labels = []\n",
    "for d in data:\n",
    "    features.append(d['content'])\n",
    "    labels.append(d['category'])"
   ]
  },
  {
   "cell_type": "code",
   "execution_count": 4,
   "metadata": {},
   "outputs": [
    {
     "data": {
      "text/plain": [
       "{'Chinh tri Xa hoi': 0,\n",
       " 'Doi song': 1,\n",
       " 'Khoa hoc': 2,\n",
       " 'Kinh doanh': 3,\n",
       " 'Phap luat': 4,\n",
       " 'Suc khoe': 5,\n",
       " 'The gioi': 6,\n",
       " 'The thao': 7,\n",
       " 'Van hoa': 8,\n",
       " 'Vi tinh': 9}"
      ]
     },
     "execution_count": 4,
     "metadata": {},
     "output_type": "execute_result"
    }
   ],
   "source": [
    "label_dict = dict(\n",
    "                    zip(\n",
    "                        sorted(set(labels), key=labels.index), \n",
    "                        range(len(labels))\n",
    "                        )\n",
    "                )\n",
    "label_dict"
   ]
  },
  {
   "cell_type": "code",
   "execution_count": 5,
   "metadata": {},
   "outputs": [],
   "source": [
    "label_indices = [label_dict[label] for label in labels]"
   ]
  },
  {
   "cell_type": "code",
   "execution_count": 6,
   "metadata": {},
   "outputs": [],
   "source": [
    "features = [processing(article, stopwordLst) for article in features]"
   ]
  },
  {
   "cell_type": "code",
   "execution_count": null,
   "metadata": {},
   "outputs": [],
   "source": []
  },
  {
   "cell_type": "code",
   "execution_count": 7,
   "metadata": {},
   "outputs": [
    {
     "data": {
      "image/png": "[encoded data removed]",
      "text/plain": [
       "<Figure size 432x288 with 1 Axes>"
      ]
     },
     "metadata": {
      "needs_background": "light"
     },
     "output_type": "display_data"
    }
   ],
   "source": [
    "label_series = pd.Series(label_indices)\n",
    "\n",
    "label_series.hist(bins=10)\n",
    "plt.xticks(range(10))\n",
    "\n",
    "plt.ylabel('Records')\n",
    "plt.xlabel('Topic')\n",
    "plt.title('Distribution of 2 class spam and milk')\n",
    "plt.show()"
   ]
  },
  {
   "cell_type": "code",
   "execution_count": 8,
   "metadata": {},
   "outputs": [],
   "source": [
    "def train_word2vec(sentences):\n",
    "    w2v_model = Word2Vec(\n",
    "        sentences,\n",
    "        vector_size=300,\n",
    "        window=3,\n",
    "        min_count=1,\n",
    "        sg= 1, # Training algorithm: 1 for skip-gram; otherwise CBOW.\n",
    "        workers=4,\n",
    "        seed = 42,\n",
    "        epochs =100)\n",
    "    return w2v_model"
   ]
  },
  {
   "cell_type": "code",
   "execution_count": 9,
   "metadata": {},
   "outputs": [
    {
     "name": "stdout",
     "output_type": "stream",
     "text": [
      "['thành_lập', 'dự_án', 'policy', 'phòng_chống', 'hivaids', 'vn', 'nlđ', 'quỹ', 'khẩn_cấp', 'aids', 'hoa', 'kỳ', 'thành_lập', 'dự_án', 'policy', 'vn', 'cam_kết', 'chính_phủ', 'nhân_dân', 'vn', 'đối_phó_hivaids', 'dự_án', 'nhiệm_vụ', 'cải_thiện', 'công_tác', 'phòng_chống', 'hivaids', 'thông_qua', 'lĩnh_vực', 'xây_dựng', 'chính_sách', 'rà_soát', 'văn_bản', 'pháp_luật', 'xây_dựng', 'chiến_lược', 'quảng_bá', 'xây_dựng', 'chương_trình', 'đào_tạo', 'phòng_chống', 'hivaids', 'kế_hoạch', 'bố_trí', 'nguồn_lực', 'huấn_luyện', 'nghiên_cứu', 'phương_tiện', 'truyền_thông', 'đại_chúng', 'tổ_chức', 'hoạt_động', 'kỳ_thị', 'phân_biệt', 'đối_xử', 'hivaids', 'ttxvn', 'dự_án', 'policy', 'công_tác', 'truyền_thông', 'phòng_chống', 'hivaids', 'coi', 'biện_pháp', 'tích_cực', 'hữu_hiệu', 'phòng_chống', 'hiệu_quả', 'hivaids', 'dự_án', 'policy', 'tổ_chức', 'hoạt_động', 'nâng', 'nhận_thức', 'trách_nhiệm', 'công_tác', 'chỉ_đạo', 'phòng_chống', 'hivaids']\n",
      "101639\n"
     ]
    }
   ],
   "source": [
    "sentences = [row.strip().split(\" \") for row in features]\n",
    "print(sentences[0])\n",
    "word2vec_model = train_word2vec(sentences)\n",
    "print(len(word2vec_model.wv))\n"
   ]
  },
  {
   "cell_type": "code",
   "execution_count": 26,
   "metadata": {},
   "outputs": [],
   "source": [
    "def average(lst):\n",
    "    return sum(lst) / len(lst)"
   ]
  },
  {
   "cell_type": "code",
   "execution_count": 24,
   "metadata": {},
   "outputs": [],
   "source": [
    "lengths = [len(i) for i in sentences]"
   ]
  },
  {
   "cell_type": "code",
   "execution_count": 27,
   "metadata": {},
   "outputs": [
    {
     "data": {
      "text/plain": [
       "183.70677448976568"
      ]
     },
     "execution_count": 27,
     "metadata": {},
     "output_type": "execute_result"
    }
   ],
   "source": [
    "average(lengths)"
   ]
  },
  {
   "cell_type": "code",
   "execution_count": 10,
   "metadata": {},
   "outputs": [],
   "source": [
    "word2vec_feature = []\n",
    "for tweet in sentences:\n",
    "    average_vec = np.zeros(300)\n",
    "    for word in tweet:\n",
    "        if word in word2vec_model.wv:\n",
    "            average_vec += (word2vec_model.wv[word] / len(tweet))\n",
    "        else:\n",
    "            pass\n",
    "    word2vec_feature.append(average_vec)"
   ]
  },
  {
   "cell_type": "code",
   "execution_count": 11,
   "metadata": {},
   "outputs": [
    {
     "data": {
      "text/plain": [
       "33759"
      ]
     },
     "execution_count": 11,
     "metadata": {},
     "output_type": "execute_result"
    }
   ],
   "source": [
    "len(word2vec_feature)"
   ]
  },
  {
   "cell_type": "code",
   "execution_count": 12,
   "metadata": {},
   "outputs": [
    {
     "data": {
      "text/plain": [
       "33759"
      ]
     },
     "execution_count": 12,
     "metadata": {},
     "output_type": "execute_result"
    }
   ],
   "source": [
    "len(label_indices)"
   ]
  },
  {
   "cell_type": "code",
   "execution_count": 13,
   "metadata": {},
   "outputs": [],
   "source": [
    "test_ratio = 0.2\n",
    "x_train, x_test, y_train, y_test = model_selection.train_test_split(\n",
    "    word2vec_feature, label_indices, \n",
    "    test_size=test_ratio,\n",
    "    stratify=label_indices\n",
    ")"
   ]
  },
  {
   "cell_type": "code",
   "execution_count": 14,
   "metadata": {},
   "outputs": [],
   "source": [
    "def optimize_model_parameter(model, X_train, Y_train):\n",
    "    '''\n",
    "    Perform hyper parameter tuning for model\n",
    "    '''\n",
    "    best_model = model.fit(X_train, Y_train)\n",
    "    #print(svm_grid_model.best_estimator_) \n",
    "    \n",
    "    # Estimate the best accuracy\n",
    "    train_accuracy = best_model.best_score_ *100\n",
    "    print(\"Accuracy for our training dataset with tuning is : {:.2f}%\".format(train_accuracy) )\n",
    "    return best_model\n",
    "\n",
    "def evaluate_model(model, X_test, Y_test):\n",
    "    '''\n",
    "    Initial evaluate model on test set\n",
    "    '''\n",
    "    # Predict topic indices in x_test\n",
    "    Y_test_hat = model.predict(X_test)\n",
    "\n",
    "    # Estimate the testing accuracy\n",
    "    test_accuracy = metrics.accuracy_score(Y_test, Y_test_hat)*100\n",
    "    print(metrics.classification_report(Y_test, Y_test_hat))\n",
    "    print(\"Accuracy for our testing dataset with tuning is : {:.2f}%\".format(test_accuracy) )\n",
    "    return test_accuracy"
   ]
  },
  {
   "cell_type": "markdown",
   "metadata": {},
   "source": [
    "## Naive bayes"
   ]
  },
  {
   "cell_type": "code",
   "execution_count": 15,
   "metadata": {},
   "outputs": [
    {
     "name": "stdout",
     "output_type": "stream",
     "text": [
      "              precision    recall  f1-score   support\n",
      "\n",
      "           0       0.46      0.94      0.62      1044\n",
      "           1       0.79      0.80      0.79       632\n",
      "           2       1.00      0.27      0.43       364\n",
      "           3       0.89      0.53      0.67       510\n",
      "           4       0.92      0.75      0.82       774\n",
      "           5       0.85      0.82      0.84       677\n",
      "           6       0.93      0.73      0.82       579\n",
      "           7       0.99      0.87      0.92      1060\n",
      "           8       0.90      0.80      0.85       616\n",
      "           9       0.98      0.73      0.84       496\n",
      "\n",
      "    accuracy                           0.77      6752\n",
      "   macro avg       0.87      0.72      0.76      6752\n",
      "weighted avg       0.84      0.77      0.78      6752\n",
      "\n",
      "Accuracy for our testing dataset with tuning is : 76.81%\n"
     ]
    },
    {
     "data": {
      "text/plain": [
       "76.8068720379147"
      ]
     },
     "execution_count": 15,
     "metadata": {},
     "output_type": "execute_result"
    }
   ],
   "source": [
    "from sklearn.naive_bayes import *\n",
    "from sklearn.preprocessing import MinMaxScaler #fixed import\n",
    "\n",
    "scaler = MinMaxScaler()\n",
    "X_train = scaler.fit_transform(x_train)\n",
    "X_test = scaler.transform(x_test)\n",
    "\n",
    "nb_clf = MultinomialNB()\n",
    "nb_clf.fit(X_train, y_train)\n",
    "\n",
    "evaluate_model(nb_clf, X_test, y_test)"
   ]
  },
  {
   "cell_type": "markdown",
   "metadata": {},
   "source": [
    "## SVM"
   ]
  },
  {
   "cell_type": "code",
   "execution_count": 16,
   "metadata": {},
   "outputs": [],
   "source": [
    "def get_SVM_model():\n",
    "    '''\n",
    "    Get linear SVM model and list of parameters\n",
    "    '''\n",
    "    # Initialize SVM model as a classifier\n",
    "    svm_model = svm.SVC(probability=True) \n",
    "\n",
    "    # Define config for params\n",
    "    param_grid = {'C': [50, 100, 200], \n",
    "                  'kernel': ['linear', 'rbf']} \n",
    "\n",
    "    # Perform Grid search\n",
    "    grid = GridSearchCV(\n",
    "        svm_model, \n",
    "        param_grid, \n",
    "        refit = True, \n",
    "        verbose = 3, \n",
    "        cv=5,\n",
    "        n_jobs=-1\n",
    "    )\n",
    "    \n",
    "    return grid"
   ]
  },
  {
   "cell_type": "code",
   "execution_count": 17,
   "metadata": {},
   "outputs": [
    {
     "name": "stdout",
     "output_type": "stream",
     "text": [
      "Fitting 5 folds for each of 6 candidates, totalling 30 fits\n",
      "Accuracy for our training dataset with tuning is : 89.88%\n",
      "              precision    recall  f1-score   support\n",
      "\n",
      "           0       0.83      0.85      0.84      1044\n",
      "           1       0.86      0.85      0.85       632\n",
      "           2       0.81      0.85      0.83       364\n",
      "           3       0.90      0.88      0.89       510\n",
      "           4       0.92      0.91      0.91       774\n",
      "           5       0.92      0.93      0.92       677\n",
      "           6       0.93      0.91      0.92       579\n",
      "           7       0.98      0.98      0.98      1060\n",
      "           8       0.94      0.92      0.93       616\n",
      "           9       0.94      0.93      0.94       496\n",
      "\n",
      "    accuracy                           0.91      6752\n",
      "   macro avg       0.90      0.90      0.90      6752\n",
      "weighted avg       0.91      0.91      0.91      6752\n",
      "\n",
      "Accuracy for our testing dataset with tuning is : 90.55%\n"
     ]
    },
    {
     "data": {
      "text/plain": [
       "90.55094786729858"
      ]
     },
     "execution_count": 17,
     "metadata": {},
     "output_type": "execute_result"
    }
   ],
   "source": [
    "# Initialize SVM with Grid Search model\n",
    "svm_grid_model = get_SVM_model()\n",
    "\n",
    "# Hyper parameter tuning\n",
    "optimized_model = optimize_model_parameter(svm_grid_model, x_train, y_train)\n",
    "# Classifier pipeline\n",
    "\n",
    "# Predict topic indices in x_test\n",
    "\n",
    "# Evaluate on test set\n",
    "evaluate_model(optimized_model, x_test, y_test)"
   ]
  },
  {
   "cell_type": "code",
   "execution_count": 18,
   "metadata": {},
   "outputs": [
    {
     "name": "stdout",
     "output_type": "stream",
     "text": [
      "              precision    recall  f1-score   support\n",
      "\n",
      "           0       0.83      0.85      0.84      1044\n",
      "           1       0.86      0.85      0.85       632\n",
      "           2       0.81      0.85      0.83       364\n",
      "           3       0.90      0.88      0.89       510\n",
      "           4       0.92      0.91      0.91       774\n",
      "           5       0.92      0.93      0.92       677\n",
      "           6       0.93      0.91      0.92       579\n",
      "           7       0.98      0.98      0.98      1060\n",
      "           8       0.94      0.92      0.93       616\n",
      "           9       0.94      0.93      0.94       496\n",
      "\n",
      "    accuracy                           0.91      6752\n",
      "   macro avg       0.90      0.90      0.90      6752\n",
      "weighted avg       0.91      0.91      0.91      6752\n",
      "\n",
      "Accuracy for our testing dataset with tuning is : 90.55%\n"
     ]
    },
    {
     "data": {
      "text/plain": [
       "90.55094786729858"
      ]
     },
     "execution_count": 18,
     "metadata": {},
     "output_type": "execute_result"
    }
   ],
   "source": [
    "evaluate_model(optimized_model, x_test, y_test)"
   ]
  },
  {
   "cell_type": "markdown",
   "metadata": {},
   "source": [
    "## MLP"
   ]
  },
  {
   "cell_type": "code",
   "execution_count": 19,
   "metadata": {},
   "outputs": [
    {
     "name": "stdout",
     "output_type": "stream",
     "text": [
      "              precision    recall  f1-score   support\n",
      "\n",
      "           0       0.84      0.84      0.84      1044\n",
      "           1       0.85      0.87      0.86       632\n",
      "           2       0.86      0.79      0.82       364\n",
      "           3       0.89      0.85      0.87       510\n",
      "           4       0.86      0.93      0.89       774\n",
      "           5       0.93      0.92      0.92       677\n",
      "           6       0.94      0.87      0.90       579\n",
      "           7       0.98      0.98      0.98      1060\n",
      "           8       0.94      0.93      0.93       616\n",
      "           9       0.92      0.96      0.94       496\n",
      "\n",
      "    accuracy                           0.90      6752\n",
      "   macro avg       0.90      0.89      0.90      6752\n",
      "weighted avg       0.90      0.90      0.90      6752\n",
      "\n",
      "Accuracy for our testing dataset with tuning is : 90.15%\n"
     ]
    },
    {
     "data": {
      "text/plain": [
       "90.15106635071089"
      ]
     },
     "execution_count": 19,
     "metadata": {},
     "output_type": "execute_result"
    }
   ],
   "source": [
    "from sklearn.neural_network import MLPClassifier\n",
    "\n",
    "mlp_clf = MLPClassifier(hidden_layer_sizes=(512,256,128), activation='relu', random_state=1, max_iter=300)\n",
    "mlp_clf.fit(x_train, y_train)\n",
    "\n",
    "evaluate_model(mlp_clf, x_test, y_test)"
   ]
  },
  {
   "cell_type": "code",
   "execution_count": null,
   "metadata": {},
   "outputs": [],
   "source": []
  },
  {
   "cell_type": "code",
   "execution_count": null,
   "metadata": {},
   "outputs": [],
   "source": []
  },
  {
   "cell_type": "code",
   "execution_count": null,
   "metadata": {},
   "outputs": [],
   "source": []
  }
 ],
 "metadata": {
  "interpreter": {
   "hash": "8a41e0f08f37ef5e401a85bb21f7a18fb40e6484359584a8a4c091e0551cf374"
  },
  "kernelspec": {
   "display_name": "Python 3 (ipykernel)",
   "language": "python",
   "name": "python3"
  },
  "language_info": {
   "codemirror_mode": {
    "name": "ipython",
    "version": 3
   },
   "file_extension": ".py",
   "mimetype": "text/x-python",
   "name": "python",
   "nbconvert_exporter": "python",
   "pygments_lexer": "ipython3",
   "version": "3.7.13"
  }
 },
 "nbformat": 4,
 "nbformat_minor": 4
}
